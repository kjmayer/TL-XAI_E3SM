{
 "cells": [
  {
   "cell_type": "markdown",
   "id": "61393eda-6299-4f72-bdf7-c9318b5395e1",
   "metadata": {},
   "source": [
    "# Prep data for training\n",
    "1. Load & append years (ERA/GPCP)\n",
    "2. Regrid: \n",
    "    a. z500 --> 2.5x2.5 (coarse grid - high spatial correlation)\n",
    "    b. precip --> 1.25x1 (highest resolution)"
   ]
  },
  {
   "cell_type": "code",
   "execution_count": 1,
   "id": "edd010f3-446b-47c1-aea2-75cbcf180bf2",
   "metadata": {},
   "outputs": [],
   "source": [
    "import xarray as xr\n",
    "import numpy as np\n",
    "import pandas as pd\n",
    "import matplotlib.pyplot as plt\n",
    "import glob\n",
    "import datetime as dt"
   ]
  },
  {
   "cell_type": "markdown",
   "id": "028c92e3-aa30-4bb8-98ce-c30547560fbc",
   "metadata": {},
   "source": [
    "## LOAD TRAINING DATA"
   ]
  },
  {
   "cell_type": "markdown",
   "id": "d567bb40-f0e7-4482-8c49-06f758e75451",
   "metadata": {},
   "source": [
    "### Reanalysis"
   ]
  },
  {
   "cell_type": "code",
   "execution_count": 2,
   "id": "4a544e3f-f6d2-4a72-953c-ba4c97dfddbe",
   "metadata": {},
   "outputs": [],
   "source": [
    "z500_era_path    = '/glade/derecho/scratch/kjmayer/DATA/ERA5/z500/daily/'\n",
    "z500_era_finame   = 'e5.oper.an.pl.128_129_z.ll025sc.*.nc'\n",
    "\n",
    "z500_era = xr.open_mfdataset(z500_era_path+z500_era_finame,\n",
    "                              concat_dim = 'time',\n",
    "                              combine=\"nested\",\n",
    "                             )['Z']\n",
    "z500_era = z500_era/10. #.where(z500_era.time.dt.year >= 1996, drop = True)\n",
    "z500_era[\"time\"] = z500_era[\"time\"].astype(\"datetime64[ns]\")"
   ]
  },
  {
   "cell_type": "code",
   "execution_count": 5,
   "id": "40a790e1-a9c7-41eb-ba17-dd785bfd2c05",
   "metadata": {},
   "outputs": [],
   "source": [
    "precip_gpcp_path = '/glade/derecho/scratch/kjmayer/DATA/GPCP/PRECT/daily/'\n",
    "precip_gpcp_finame = 'precip_30S-30N_*.nc'\n",
    "precip_gpcp = xr.open_mfdataset(precip_gpcp_path+precip_gpcp_finame,\n",
    "                                concat_dim = 'time',\n",
    "                                combine=\"nested\",\n",
    "                                )['precip']"
   ]
  },
  {
   "cell_type": "markdown",
   "id": "33ba51a8-91a9-4d29-baaf-330630098bf8",
   "metadata": {},
   "source": [
    "## Regrid Data"
   ]
  },
  {
   "cell_type": "code",
   "execution_count": 3,
   "id": "67c41d97-d1cb-4ae4-8de0-374fd65b7d63",
   "metadata": {},
   "outputs": [],
   "source": [
    "# ----- regrid z500 to 2.5x2.5 (bilinear interpolation) -----\n",
    "# 0.25 x 0.25\n",
    "z500_era_regrid = z500_era.interp(latitude = np.arange(20,92.5,2.5),\n",
    "                                  longitude = np.arange(0,360.,2.5),\n",
    "                                  method = 'linear') \n",
    "z500_era_regrid = z500_era_regrid.astype(np.float32) # for some reason the lat and lons were object not float32"
   ]
  },
  {
   "cell_type": "code",
   "execution_count": 8,
   "id": "9dda6c25-1daf-48e8-bb96-71b737539e63",
   "metadata": {},
   "outputs": [],
   "source": [
    "# ----- regrid precip to 2.5x2.5 (bilinear interpolation) & 20S-20N = lower res to use less memory -----\n",
    "# 1.0 x 1.0\n",
    "precip_gpcp = precip_gpcp.where((precip_gpcp['latitude'] >= -20) & (precip_gpcp['latitude'] <= 20), drop=True)\n",
    "\n",
    "precip_gpcp_regrid = precip_gpcp.interp(latitude = np.arange(-20,20.5,2.5),\n",
    "                                        longitude = np.arange(0,360.0,2.5),\n",
    "                                        method = 'linear') "
   ]
  },
  {
   "cell_type": "markdown",
   "id": "21d4d653-5d87-4181-ab30-0f9317713a6b",
   "metadata": {},
   "source": [
    "## Save Combined & Regridded Data"
   ]
  },
  {
   "cell_type": "code",
   "execution_count": 13,
   "id": "a0b2fae4-d0ef-4e4a-91e4-7c4985365fb9",
   "metadata": {},
   "outputs": [],
   "source": [
    "precip_gpcp_regrid.to_netcdf(precip_gpcp_path+'precip_daily_1996-2023_20S-20N_regrid2.5x2.5.nc')\n",
    "z500_era_regrid.to_netcdf(z500_era_path+'z500_daily_1996-2023_20-90N_regrid2.5x2.5.nc')"
   ]
  },
  {
   "cell_type": "code",
   "execution_count": null,
   "id": "da379bb8-ebe5-43b2-a1aa-d07b316c13bd",
   "metadata": {},
   "outputs": [],
   "source": []
  },
  {
   "cell_type": "code",
   "execution_count": 45,
   "id": "2e637286-eb21-49c9-90ea-11941c01ab51",
   "metadata": {},
   "outputs": [],
   "source": [
    "# Compare xarray interp and xesmf regridder (theyre the same)\n",
    "\n",
    "# import xesmf as xe\n",
    "# z500_erads = xr.open_mfdataset(z500_era_path+z500_era_finame,\n",
    "#                               concat_dim = 'time',\n",
    "#                               combine=\"nested\",\n",
    "#                              )\n",
    "# ds_out = xr.Dataset({\"latitude\": ([\"latitude\"], np.arange(20,92.5,2.5), {\"units\": \"degrees_north\"}),\n",
    "#                      \"longitude\": ([\"longitude\"], np.arange(0,360.,2.5), {\"units\": \"degrees_east\"}),})\n",
    "# regridder = xe.Regridder(z500_erads, ds_out, \"bilinear\")\n",
    "\n",
    "# regrid_check = regridder(z500_erads['Z'],keep_attrs=True)\n",
    "\n",
    "# check = z500_erads['Z'].where(z500_erads['Z'].time.dt.year >= 1997, drop = True)/10.\n",
    "# regrid_check = regrid_check.where(regrid_check.time.dt.year >= 1997, drop = True)/10.\n",
    "\n",
    "# # plot and take difference between methods --> xarray interp and xesmf regridder are the same!\n",
    "# check[0].plot(levels=np.arange(3500,5600,100))\n",
    "# plt.show()\n",
    "# regrid_check[0].plot(levels=np.arange(3500,5600,100))\n",
    "# plt.show()\n",
    "# z500_era_regrid[0].plot(levels=np.arange(3500,5600,100))\n",
    "# plt.show()\n",
    "\n",
    "# diff_regridtest = regrid_check[0] - z500_era_regrid[0]\n",
    "# diff_regridtest.plot(levels=np.arange(-1,1.1,.1))\n",
    "# plt.show()"
   ]
  }
 ],
 "metadata": {
  "kernelspec": {
   "display_name": "Python [conda env:tf2-env-v2]",
   "language": "python",
   "name": "conda-env-tf2-env-v2-py"
  },
  "language_info": {
   "codemirror_mode": {
    "name": "ipython",
    "version": 3
   },
   "file_extension": ".py",
   "mimetype": "text/x-python",
   "name": "python",
   "nbconvert_exporter": "python",
   "pygments_lexer": "ipython3",
   "version": "3.9.17"
  }
 },
 "nbformat": 4,
 "nbformat_minor": 5
}
