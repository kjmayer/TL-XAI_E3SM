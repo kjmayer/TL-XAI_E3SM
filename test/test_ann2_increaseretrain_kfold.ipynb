{
 "cells": [
  {
   "cell_type": "code",
   "execution_count": 1,
   "id": "37c85239-3ca4-4e7f-bb73-0b5cecb86116",
   "metadata": {},
   "outputs": [],
   "source": [
    "## EDIT:\n",
    "base_dir = '/glade/work/kjmayer/research/catalyst/TransferLearning/runmean_analysis/artificial_bias/perfectmodel_TLtest/E3SM_analysis/'"
   ]
  },
  {
   "cell_type": "code",
   "execution_count": 2,
   "id": "3a363ee7-38f2-4b25-a929-46fafa3bdb44",
   "metadata": {},
   "outputs": [
    {
     "name": "stderr",
     "output_type": "stream",
     "text": [
      "2024-08-13 10:37:08.887794: I tensorflow/core/platform/cpu_feature_guard.cc:193] This TensorFlow binary is optimized with oneAPI Deep Neural Network Library (oneDNN) to use the following CPU instructions in performance-critical operations:  SSE4.1 SSE4.2 AVX AVX2 AVX512F AVX512_VNNI FMA\n",
      "To enable them in other operations, rebuild TensorFlow with the appropriate compiler flags.\n",
      "2024-08-13 10:37:12.144677: I tensorflow/core/util/port.cc:104] oneDNN custom operations are on. You may see slightly different numerical results due to floating-point round-off errors from different computation orders. To turn them off, set the environment variable `TF_ENABLE_ONEDNN_OPTS=0`.\n",
      "\n",
      "KeyboardInterrupt\n",
      "\n"
     ]
    }
   ],
   "source": [
    "import xarray as xr\n",
    "import numpy as np\n",
    "import matplotlib.pyplot as plt\n",
    "import datetime as dt\n",
    "import random\n",
    "import pandas as pd\n",
    "import tensorflow as tf\n",
    "print(\"Num GPUs Available: \", len(tf.config.list_physical_devices('GPU')))\n",
    "from tensorflow import keras\n",
    "from tensorflow.keras import layers\n",
    "import time\n",
    "\n",
    "import sys\n",
    "sys.path.append(base_dir+'functions/')\n",
    "from utils import split_retrain\n",
    "from exp_hp import get_hp"
   ]
  },
  {
   "cell_type": "code",
   "execution_count": null,
   "id": "e4f01ce9-0d7f-4f10-8f9b-8378791eee4e",
   "metadata": {},
   "outputs": [],
   "source": [
    "%%time\n",
    "EXP_NAME = 'exp2_kfold'\n",
    "EXP_NAME2 = 'exp2_retrain_increase_kfold'\n",
    "hps = get_hp(EXP_NAME)\n",
    "hps2 = get_hp(EXP_NAME2)\n",
    "\n",
    "for kk in np.arange(16,20):\n",
    "    print('Validation Member: '+str(hps2['val_mems'][kk][0]))\n",
    "    print('Testing Member: '+str(hps2['test_mems'][kk][0]))\n",
    "    \n",
    "    for i_trainmems in range(9):\n",
    "        print('Training Members: '+str(hps2['train_mems'][kk][i_trainmems]))\n",
    "    \n",
    "        _, _, X1test, _, _, Y1test,_ = split_retrain(trainmems = hps2['train_mems'][kk][i_trainmems],\n",
    "                                                          valmem = hps2['val_mems'][kk][0],\n",
    "                                                          testmem = hps2['test_mems'][kk][0],\n",
    "                                                          months = [11,12,1,2], # months for X (Y+leadtime are accounted for in function)\n",
    "                                                          lead = hps2['LEAD'])\n",
    "    \n",
    "        X1test = X1test.reshape((X1test.shape[0],X1test.shape[1]*X1test.shape[2]))\n",
    "        \n",
    "        \n",
    "        #----- SET UP & TRAIN NN -----\n",
    "        GLOBAL_SEED = hps['GLOBAL_SEED']\n",
    "        np.random.seed(GLOBAL_SEED)\n",
    "        random.seed(GLOBAL_SEED)\n",
    "        tf.random.set_seed(GLOBAL_SEED)\n",
    "    \n",
    "        acc_all = []\n",
    "        for SEED in range(10):\n",
    "            print(SEED)\n",
    "            annfi_name = 'ann2_60Eshift_'+EXP_NAME2+'.'+str(kk)+'.'+str(i_trainmems)+'_ann1-'+EXP_NAME+'_seed'+str(SEED)+'.h5'\n",
    "            ann = tf.keras.models.load_model(base_dir+'train/saved_models/kfold/'+annfi_name)\n",
    "    \n",
    "            pred = ann.predict(X1test)\n",
    "            acc = []\n",
    "            predconf = np.max(pred,axis=-1)\n",
    "            predval  = np.argmax(pred,axis=-1)\n",
    "    \n",
    "            for q in range(100):\n",
    "                iconf = np.where(predconf >= np.percentile(predconf,q=q))\n",
    "                icorr = np.where(predval[iconf] == Y1test[iconf])\n",
    "    \n",
    "                acc.append((len(icorr[0])/len(iconf[0]))*100)\n",
    "            plt.plot(acc)\n",
    "            plt.ylim(50,100)\n",
    "    \n",
    "            acc_all.append(acc)\n",
    "        plt.show()\n",
    "        np.save(base_dir+'test/confvsacc/kfold/confvsacc_ann2_60Eshift_'+EXP_NAME2+'.'+str(kk)+'.'+str(i_trainmems)+'_ann1-'+EXP_NAME+'.npy', acc_all, allow_pickle=True)"
   ]
  },
  {
   "cell_type": "code",
   "execution_count": 12,
   "id": "05861346-ae24-4ea1-b936-144eb5796b2e",
   "metadata": {},
   "outputs": [],
   "source": []
  }
 ],
 "metadata": {
  "kernelspec": {
   "display_name": "Python [conda env:tf2-env-v2]",
   "language": "python",
   "name": "conda-env-tf2-env-v2-py"
  },
  "language_info": {
   "codemirror_mode": {
    "name": "ipython",
    "version": 3
   },
   "file_extension": ".py",
   "mimetype": "text/x-python",
   "name": "python",
   "nbconvert_exporter": "python",
   "pygments_lexer": "ipython3",
   "version": "3.9.17"
  }
 },
 "nbformat": 4,
 "nbformat_minor": 5
}
