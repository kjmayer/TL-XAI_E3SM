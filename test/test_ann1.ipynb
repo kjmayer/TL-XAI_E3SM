{
 "cells": [
  {
   "cell_type": "code",
   "execution_count": 1,
   "id": "37c85239-3ca4-4e7f-bb73-0b5cecb86116",
   "metadata": {},
   "outputs": [],
   "source": [
    "## EDIT:\n",
    "base_dir = '/glade/work/kjmayer/research/catalyst/TransferLearning/runmean_analysis/artificial_bias/perfectmodel_TLtest/E3SM_analysis/'"
   ]
  },
  {
   "cell_type": "code",
   "execution_count": 2,
   "id": "3a363ee7-38f2-4b25-a929-46fafa3bdb44",
   "metadata": {},
   "outputs": [
    {
     "name": "stderr",
     "output_type": "stream",
     "text": [
      "2025-01-27 15:59:03.116499: I tensorflow/core/platform/cpu_feature_guard.cc:193] This TensorFlow binary is optimized with oneAPI Deep Neural Network Library (oneDNN) to use the following CPU instructions in performance-critical operations:  SSE4.1 SSE4.2 AVX AVX2 AVX512F AVX512_VNNI FMA\n",
      "To enable them in other operations, rebuild TensorFlow with the appropriate compiler flags.\n",
      "2025-01-27 15:59:03.359570: I tensorflow/core/util/port.cc:104] oneDNN custom operations are on. You may see slightly different numerical results due to floating-point round-off errors from different computation orders. To turn them off, set the environment variable `TF_ENABLE_ONEDNN_OPTS=0`.\n"
     ]
    },
    {
     "name": "stdout",
     "output_type": "stream",
     "text": [
      "Num GPUs Available:  0\n"
     ]
    }
   ],
   "source": [
    "import xarray as xr\n",
    "import numpy as np\n",
    "import matplotlib.pyplot as plt\n",
    "import datetime as dt\n",
    "import random\n",
    "import pandas as pd\n",
    "import tensorflow as tf\n",
    "print(\"Num GPUs Available: \", len(tf.config.list_physical_devices('GPU')))\n",
    "from tensorflow import keras\n",
    "from tensorflow.keras import layers\n",
    "import time\n",
    "\n",
    "import sys\n",
    "sys.path.append(base_dir+'functions/')\n",
    "from utils import split_SDbias, detrend_members, split_retrain\n",
    "from exp_hp import get_hp\n",
    "#from utils import detrend_members"
   ]
  },
  {
   "cell_type": "markdown",
   "id": "bfd2d854-721a-4aa3-a5ca-e923f2bb602b",
   "metadata": {},
   "source": [
    "### Load standardized E3SM"
   ]
  },
  {
   "cell_type": "code",
   "execution_count": 3,
   "id": "d3102ea3-d92c-4802-8b7d-da08a8395d54",
   "metadata": {},
   "outputs": [
    {
     "name": "stdout",
     "output_type": "stream",
     "text": [
      "Training Members: ['0101', '0111', '0121', '0131', '0141', '0151', '0161', '0171', '0181']\n",
      "Validation Member: 0191\n",
      "Testing Member: 0301\n",
      "Lead: 14\n",
      "Region: 30-60N x 170-240E\n",
      "files do not exist - loading data & saving\n"
     ]
    }
   ],
   "source": [
    "EXP_NAME = 'exp2'\n",
    "hps = get_hp(EXP_NAME)\n",
    "print('Training Members: '+str(hps['train_mems']))\n",
    "print('Validation Member: '+str(hps['val_mems'][0]))\n",
    "print('Testing Member: '+str(hps['test_mems'][0]))\n",
    "print('Lead: '+str(hps['LEAD']))\n",
    "print('Region: '+str(hps['region'][0])+'N x '+str(hps['region'][1])+'E')\n",
    "\n",
    "_, _, X1test, _, _, Y1test, inew = split_SDbias(trainmems = hps['train_mems'],\n",
    "                                                  valmem = hps['val_mems'][0],\n",
    "                                                  testmem = hps['test_mems'][0],\n",
    "                                                  months = [11,12,1,2], # months for X (Y+leadtime are accounted for in function)\n",
    "                                                  lead = hps['LEAD'])\n",
    "\n",
    "# _, _, X1test, _, _, Y1test, inew = split_retrain(trainmems = hps['train_mems'],\n",
    "#                                                   valmem = hps['val_mems'][0],\n",
    "#                                                   testmem = hps['test_mems'][0],\n",
    "#                                                   months = [11,12,1,2], # months for X (Y+leadtime are accounted for in function)\n",
    "#                                                   lead = hps['LEAD'])\n",
    "\n",
    "X1test = X1test.reshape((X1test.shape[0],X1test.shape[1]*X1test.shape[2]))\n",
    "\n",
    "GLOBAL_SEED = hps['GLOBAL_SEED']\n",
    "np.random.seed(GLOBAL_SEED)\n",
    "random.seed(GLOBAL_SEED)\n",
    "tf.random.set_seed(GLOBAL_SEED)"
   ]
  },
  {
   "cell_type": "markdown",
   "id": "c6050b53-f85d-4031-99fe-f3fae44f77cc",
   "metadata": {
    "tags": []
   },
   "source": [
    "### Test NN"
   ]
  },
  {
   "cell_type": "code",
   "execution_count": 4,
   "id": "72bc70a5-bd57-494f-b882-895913ff8ed4",
   "metadata": {},
   "outputs": [
    {
     "name": "stdout",
     "output_type": "stream",
     "text": [
      "0\n"
     ]
    },
    {
     "name": "stderr",
     "output_type": "stream",
     "text": [
      "2025-01-27 16:00:25.807826: I tensorflow/core/platform/cpu_feature_guard.cc:193] This TensorFlow binary is optimized with oneAPI Deep Neural Network Library (oneDNN) to use the following CPU instructions in performance-critical operations:  SSE4.1 SSE4.2 AVX AVX2 AVX512F AVX512_VNNI FMA\n",
      "To enable them in other operations, rebuild TensorFlow with the appropriate compiler flags.\n"
     ]
    },
    {
     "name": "stdout",
     "output_type": "stream",
     "text": [
      "235/235 [==============================] - 1s 1ms/step\n",
      "1\n",
      "235/235 [==============================] - 0s 1ms/step\n",
      "2\n",
      "235/235 [==============================] - 0s 2ms/step\n",
      "3\n",
      "235/235 [==============================] - 0s 2ms/step\n",
      "4\n",
      "235/235 [==============================] - 0s 1ms/step\n",
      "5\n",
      "235/235 [==============================] - 0s 1ms/step\n",
      "6\n",
      "235/235 [==============================] - 1s 2ms/step\n",
      "7\n",
      "235/235 [==============================] - 0s 1ms/step\n",
      "8\n",
      "235/235 [==============================] - 0s 1ms/step\n",
      "9\n",
      "235/235 [==============================] - 0s 2ms/step\n",
      "10\n",
      "235/235 [==============================] - 1s 2ms/step\n",
      "11\n",
      "235/235 [==============================] - 0s 1ms/step\n",
      "12\n",
      "235/235 [==============================] - 0s 2ms/step\n",
      "13\n",
      "235/235 [==============================] - 0s 1ms/step\n",
      "14\n",
      "235/235 [==============================] - 0s 1ms/step\n",
      "15\n",
      "235/235 [==============================] - 0s 1ms/step\n",
      "16\n",
      "235/235 [==============================] - 0s 1ms/step\n",
      "17\n",
      "235/235 [==============================] - 0s 2ms/step\n",
      "18\n",
      "235/235 [==============================] - 0s 1ms/step\n",
      "19\n",
      "235/235 [==============================] - 0s 1ms/step\n"
     ]
    }
   ],
   "source": [
    "#----- SET UP & TRAIN NN -----\n",
    "# acc_all = []\n",
    "confcuttoffs = []\n",
    "for SEED in range(20):\n",
    "    print(SEED)\n",
    "    annfi_name = 'ann_60Eshift_'+EXP_NAME+'_seed'+str(SEED)+'.h5'\n",
    "    ann = tf.keras.models.load_model(base_dir+'train/saved_models/'+annfi_name)\n",
    "    \n",
    "    pred = ann.predict(X1test)\n",
    "    acc = []\n",
    "    predconf = np.max(pred,axis=-1)\n",
    "    predval  = np.argmax(pred,axis=-1)\n",
    "\n",
    "    # for q in range(100):\n",
    "    q = 80\n",
    "    confcuttoffs.append(np.percentile(predconf,q=q))\n",
    "    #     iconf = np.where(predconf >= np.percentile(predconf,q=q))\n",
    "    #     icorr = np.where(predval[iconf] == Y1test[iconf])\n",
    "        \n",
    "    #     acc.append((len(icorr[0])/len(iconf[0]))*100)\n",
    "    # plt.plot(acc)\n",
    "    \n",
    "    # acc_all.append(acc)\n",
    "\n",
    "# np.save(base_dir+'test/confvsacc/confvsacc_ann1_60Eshift_'+EXP_NAME+'_20seeds.npy', acc_all, allow_pickle=True)\n",
    "# # np.save(base_dir+'test/confvsacc/confvsacc_ann1_noshift_'+EXP_NAME+'.npy', acc_all, allow_pickle=True)"
   ]
  },
  {
   "cell_type": "code",
   "execution_count": 5,
   "id": "a946e244-f2e3-4d5c-88a2-a12e82843fa0",
   "metadata": {},
   "outputs": [
    {
     "data": {
      "text/plain": [
       "0.6148028695583343"
      ]
     },
     "execution_count": 5,
     "metadata": {},
     "output_type": "execute_result"
    }
   ],
   "source": [
    "np.mean(confcuttoffs)"
   ]
  },
  {
   "cell_type": "markdown",
   "id": "f0eb8c3c-365c-483c-b12a-2c106de8b93f",
   "metadata": {
    "jp-MarkdownHeadingCollapsed": true,
    "tags": []
   },
   "source": [
    "### Accuracy of Network during ENSO:"
   ]
  },
  {
   "cell_type": "code",
   "execution_count": 27,
   "id": "15cdea76-8c98-4512-a5a5-ca235e3e5d51",
   "metadata": {},
   "outputs": [],
   "source": [
    "# get SST data:\n",
    "path = '/glade/campaign/cgd/amp/jcaron/ongoing_projects/cvdp-le/output/final_cesm_e3sm_future_nonprime/1920-2100/'\n",
    "ens = ['0101','0111','0121','0131','0141','0151','0161','0171','0181','0191',\n",
    "       '0201','0211','0221','0231','0241','0251','0261','0271','0281','0291',\n",
    "       '0301']\n",
    "\n",
    "for e in range(len(ens)):\n",
    "    finame = 'E3SM2_'+ens[e]+'.cvdp_data.1920-2100.nc'\n",
    "    if e == 0:\n",
    "        nino34 = xr.open_dataset(path+finame,decode_times=False)['nino34']\n",
    "    elif e > 0:\n",
    "        temp_nino34 = xr.open_dataset(path+finame,decode_times=False)['nino34']\n",
    "        nino34 = xr.concat([nino34,temp_nino34],dim='ens')\n",
    "\n",
    "newtime = pd.date_range(\"1920-01-01\", freq=\"MS\", periods=len(nino34.time))\n",
    "nino34['time'] = newtime                           \n",
    "nino34 = nino34.where((nino34.time.dt.year >= 1950) & (nino34.time.dt.year <= 2015), drop = True)\n",
    "\n",
    "nino34_ensmean = nino34.mean('ens')\n",
    "\n",
    "nino34_detrended = detrend_members(data = nino34, \n",
    "                                   ensmean_data = nino34_ensmean, \n",
    "                                   npoly=3)\n",
    "\n",
    "nino34_detrended_upsample = nino34_detrended.resample(time='1D').asfreq()\n",
    "nino34_detrended_upsample = nino34_detrended_upsample.where(~((nino34_detrended_upsample.time.dt.month == 2) & (nino34_detrended_upsample.time.dt.day == 29)),drop=True)\n",
    "nino34_detrended_upsample = nino34_detrended_upsample.ffill(dim='time')\n",
    "nino34_detrended_upsample = nino34_detrended_upsample[:,6:-335] # 6: account for days 1-6 missing in X because of rolling mean; \n",
    "                                                                #-355: had to go through 2015 (not 2014) to get all days in Dec 2014 (not just 12-01-2014)\n",
    "\n",
    "# nino34_detrended[0].plot()\n",
    "# nino34_detrended_upsample[0].plot()\n",
    "\n",
    "nino34_test = nino34_detrended_upsample[np.where(np.asarray(ens) == hps['test_mems'][0])[0][0],:-6][:-hps['LEAD']]\n",
    "nino34_test_NDJF = nino34_test[nino34_test.time.dt.month.isin([11,12,1,2])]\n",
    "nino34test = nino34_test_NDJF.isel(time = inew,drop=True)"
   ]
  },
  {
   "cell_type": "code",
   "execution_count": 28,
   "id": "f4c71bcc-4c3c-4724-a6e8-1141f6d5ed5f",
   "metadata": {},
   "outputs": [
    {
     "name": "stdout",
     "output_type": "stream",
     "text": [
      "0\n",
      "235/235 [==============================] - 0s 1ms/step\n",
      "1\n",
      "235/235 [==============================] - 0s 761us/step\n",
      "2\n",
      "235/235 [==============================] - 0s 712us/step\n",
      "3\n",
      "235/235 [==============================] - 0s 705us/step\n",
      "4\n",
      "235/235 [==============================] - 0s 706us/step\n",
      "5\n",
      "235/235 [==============================] - 0s 701us/step\n",
      "6\n",
      "235/235 [==============================] - 0s 702us/step\n",
      "7\n",
      "235/235 [==============================] - 0s 703us/step\n",
      "8\n",
      "235/235 [==============================] - 0s 902us/step\n",
      "9\n",
      "235/235 [==============================] - 0s 706us/step\n"
     ]
    },
    {
     "data": {
      "text/plain": [
       "[<matplotlib.lines.Line2D at 0x148da9104bb0>]"
      ]
     },
     "execution_count": 28,
     "metadata": {},
     "output_type": "execute_result"
    },
    {
     "data": {
      "image/png": "[encoded data removed]",
      "text/plain": [
       "<Figure size 960x720 with 1 Axes>"
      ]
     },
     "metadata": {},
     "output_type": "display_data"
    }
   ],
   "source": [
    "\n",
    "acc_all = []\n",
    "for SEED in range(10):\n",
    "    print(SEED)\n",
    "    annfi_name = 'ann_60Eshift_'+EXP_NAME+'_seed'+str(SEED)+'.h5' \n",
    "    ann = tf.keras.models.load_model(base_dir+'train/saved_models/'+annfi_name)\n",
    "    \n",
    "    iENSO = (nino34test > 1) | (nino34test < -1)\n",
    "    pred = ann.predict(X1test)\n",
    "    \n",
    "    predconf = np.max(pred,axis=-1)\n",
    "    predval  = np.argmax(pred,axis=-1)\n",
    "    q = 80\n",
    "    iconf = predconf >= np.percentile(predconf,q=q)\n",
    "    \n",
    "    iconfENSO = iconf & iENSO\n",
    "    \n",
    "    iconfcorrENSO = predval[iconfENSO] == Y1test[iconfENSO]\n",
    "    \n",
    "    # percent of predictions correct when the network is confident during an ENSO event\n",
    "    acc_all.append((np.shape(np.where(iconfcorrENSO)[0])[0]/np.shape(np.where(iconfENSO)[0])[0])*100)\n",
    "plt.plot(acc_all)\n",
    "\n"
   ]
  },
  {
   "cell_type": "code",
   "execution_count": 43,
   "id": "43718870-564d-4302-83b5-bcf96fd7cc37",
   "metadata": {},
   "outputs": [
    {
     "name": "stdout",
     "output_type": "stream",
     "text": [
      "0\n",
      "235/235 [==============================] - 0s 734us/step\n",
      "0.8936170212765957\n",
      "0.441340782122905\n",
      "1\n",
      "235/235 [==============================] - 0s 1ms/step\n",
      "0.8936170212765957\n",
      "0.441340782122905\n",
      "2\n",
      "235/235 [==============================] - 0s 734us/step\n",
      "0.8696808510638298\n",
      "0.441340782122905\n",
      "3\n",
      "235/235 [==============================] - 0s 750us/step\n",
      "0.898936170212766\n",
      "0.441340782122905\n",
      "4\n",
      "235/235 [==============================] - 0s 744us/step\n",
      "0.9195478723404256\n",
      "0.441340782122905\n",
      "5\n",
      "235/235 [==============================] - 0s 755us/step\n",
      "0.8803191489361702\n",
      "0.441340782122905\n",
      "6\n",
      "235/235 [==============================] - 0s 731us/step\n",
      "0.8743351063829787\n",
      "0.441340782122905\n",
      "7\n",
      "235/235 [==============================] - 0s 769us/step\n",
      "0.8856382978723404\n",
      "0.441340782122905\n",
      "8\n",
      "235/235 [==============================] - 0s 769us/step\n",
      "0.8690159574468085\n",
      "0.441340782122905\n",
      "9\n",
      "235/235 [==============================] - 0s 837us/step\n",
      "0.8523936170212766\n",
      "0.441340782122905\n",
      "0.8837101063829786\n"
     ]
    }
   ],
   "source": [
    "q = 80\n",
    "iENSO = (nino34test > 1) | (nino34test < -1)\n",
    "ensoconf_frac = []\n",
    "\n",
    "for SEED in range(10):\n",
    "    print(SEED)\n",
    "    annfi_name = 'ann_60Eshift_'+EXP_NAME+'_seed'+str(SEED)+'.h5' \n",
    "    ann = tf.keras.models.load_model(base_dir+'train/saved_models/'+annfi_name)\n",
    "    \n",
    "    pred = ann.predict(X1test)\n",
    "    predconf = np.max(pred,axis=-1)\n",
    "    iconf = predconf >= np.percentile(predconf,q=q)\n",
    "    \n",
    "    # fraction of confident predictions during ENSO:\n",
    "    iconfENSO = iENSO & iconf\n",
    "\n",
    "    ensoconf_frac.append(np.shape(pred[iconfENSO])[0]/np.shape(pred[iconf])[0])\n",
    "    print(np.shape(pred[iconfENSO])[0]/np.shape(pred[iconf])[0])\n",
    "    \n",
    "    # fraction of ENSO days\n",
    "    print(np.shape(pred[iENSO])[0]/np.shape(pred)[0])\n",
    "\n",
    "print(np.mean(ensoconf_frac))"
   ]
  },
  {
   "cell_type": "code",
   "execution_count": 30,
   "id": "7535abbf-64f3-4857-84eb-cf1a9c667c11",
   "metadata": {},
   "outputs": [
    {
     "data": {
      "text/plain": [
       "1504"
      ]
     },
     "execution_count": 30,
     "metadata": {},
     "output_type": "execute_result"
    }
   ],
   "source": [
    "np.shape(np.where(iconf)[0])[0]"
   ]
  }
 ],
 "metadata": {
  "kernelspec": {
   "display_name": "Python [conda env:tf2-env-v2]",
   "language": "python",
   "name": "conda-env-tf2-env-v2-py"
  },
  "language_info": {
   "codemirror_mode": {
    "name": "ipython",
    "version": 3
   },
   "file_extension": ".py",
   "mimetype": "text/x-python",
   "name": "python",
   "nbconvert_exporter": "python",
   "pygments_lexer": "ipython3",
   "version": "3.9.17"
  }
 },
 "nbformat": 4,
 "nbformat_minor": 5
}
