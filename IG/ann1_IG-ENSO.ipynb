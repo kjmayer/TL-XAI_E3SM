{
 "cells": [
  {
   "cell_type": "code",
   "execution_count": 1,
   "id": "ed995270-7929-4dd2-bd99-73de76ea83ce",
   "metadata": {},
   "outputs": [
    {
     "name": "stderr",
     "output_type": "stream",
     "text": [
      "2024-09-05 10:46:31.776671: I tensorflow/core/platform/cpu_feature_guard.cc:193] This TensorFlow binary is optimized with oneAPI Deep Neural Network Library (oneDNN) to use the following CPU instructions in performance-critical operations:  SSE4.1 SSE4.2 AVX AVX2 FMA\n",
      "To enable them in other operations, rebuild TensorFlow with the appropriate compiler flags.\n"
     ]
    }
   ],
   "source": [
    "## EDIT:\n",
    "base_dir = '/glade/work/kjmayer/research/catalyst/TransferLearning/runmean_analysis/artificial_bias/perfectmodel_TLtest/E3SM_analysis/'\n",
    "import xarray as xr\n",
    "import numpy as np\n",
    "import matplotlib.pyplot as plt\n",
    "import datetime as dt\n",
    "import random\n",
    "import pandas as pd\n",
    "import tensorflow as tf\n",
    "from tensorflow import keras\n",
    "from tensorflow.keras import layers\n",
    "import time\n",
    "\n",
    "import sys\n",
    "sys.path.append(base_dir+'functions/')\n",
    "from utils import split_SDbias, detrend_members, is_month\n",
    "from exp_hp import get_hp"
   ]
  },
  {
   "cell_type": "code",
   "execution_count": 2,
   "id": "b71ed589-4362-4554-8611-1f7ef31d6980",
   "metadata": {},
   "outputs": [],
   "source": [
    "def get_gradients(inputs, top_pred_idx=None):\n",
    "    \"\"\"Computes the gradients of outputs w.r.t input image.\n",
    "\n",
    "    Args:\n",
    "        inputs: 2D/3D/4D matrix of samples\n",
    "        top_pred_idx: (optional) Predicted label for the x_data\n",
    "                      if classification problem. If regression,\n",
    "                      do not include.\n",
    "\n",
    "    Returns:\n",
    "        Gradients of the predictions w.r.t img_input\n",
    "    \"\"\"\n",
    "    inputs = tf.cast(inputs, tf.float32)\n",
    "\n",
    "    with tf.GradientTape() as tape:\n",
    "        tape.watch(inputs)\n",
    "        \n",
    "        # Run the forward pass of the layer and record operations\n",
    "        # on GradientTape.\n",
    "        preds = model(inputs, training=False)  \n",
    "        \n",
    "        # For classification, grab the top class\n",
    "        if top_pred_idx is not None:\n",
    "            preds = preds[:, top_pred_idx]\n",
    "        \n",
    "    # Use the gradient tape to automatically retrieve\n",
    "    # the gradients of the trainable variables with respect to the loss.        \n",
    "    grads = tape.gradient(preds, inputs)\n",
    "    return grads\n",
    "\n",
    "def get_integrated_gradients(inputs, baseline=None, num_steps=50, top_pred_idx=None):\n",
    "    \"\"\"Computes Integrated Gradients for a prediction.\n",
    "\n",
    "    Args:\n",
    "        inputs (ndarray): 2D/3D/4D matrix of samples\n",
    "        baseline (ndarray): The baseline image to start with for interpolation\n",
    "        num_steps: Number of interpolation steps between the baseline\n",
    "            and the input used in the computation of integrated gradients. These\n",
    "            steps along determine the integral approximation error. By default,\n",
    "            num_steps is set to 50.\n",
    "        top_pred_idx: (optional) Predicted label for the x_data\n",
    "                      if classification problem. If regression,\n",
    "                      do not include.            \n",
    "\n",
    "    Returns:\n",
    "        Integrated gradients w.r.t input image\n",
    "    \"\"\"\n",
    "    # If baseline is not provided, start with zeros\n",
    "    # having same size as the input image.\n",
    "    if baseline is None:\n",
    "        input_size = np.shape(inputs)[1:]\n",
    "        baseline = np.zeros(input_size).astype(np.float32)\n",
    "    else:\n",
    "        baseline = baseline.astype(np.float32)\n",
    "\n",
    "    # 1. Do interpolation.\n",
    "    inputs = inputs.astype(np.float32)\n",
    "    interpolated_inputs = [\n",
    "        baseline + (step / num_steps) * (inputs - baseline)\n",
    "        for step in range(num_steps + 1)\n",
    "    ]\n",
    "    interpolated_inputs = np.array(interpolated_inputs).astype(np.float32)\n",
    "\n",
    "    # 3. Get the gradients\n",
    "    grads = []\n",
    "    for i, x_data in enumerate(interpolated_inputs):\n",
    "        grad = get_gradients(x_data, top_pred_idx=top_pred_idx)     \n",
    "        grads.append(grad)\n",
    "    grads = tf.convert_to_tensor(grads, dtype=tf.float32)\n",
    "\n",
    "    # 4. Approximate the integral using the trapezoidal rule\n",
    "    grads = (grads[:-1] + grads[1:]) / 2.0\n",
    "    avg_grads = tf.reduce_mean(grads, axis=0)\n",
    "    # 5. Calculate integrated gradients and return\n",
    "    integrated_grads = (inputs - baseline) * avg_grads\n",
    "    return integrated_grads"
   ]
  },
  {
   "cell_type": "markdown",
   "id": "0206461a-f839-466c-82e7-dee42fc975f7",
   "metadata": {},
   "source": [
    "## Get ENSO:"
   ]
  },
  {
   "cell_type": "code",
   "execution_count": 3,
   "id": "623aecff-cde1-44bb-b923-d75b4cf83b1e",
   "metadata": {},
   "outputs": [],
   "source": [
    "# get nino3.4 data (not detrended):\n",
    "# old path that had been overwritten:\n",
    "# path = '/glade/campaign/cgd/amp/jcaron/ongoing_projects/cvdp-le/output/final_cesm_e3sm_future_nonprime/1920-2100/'\n",
    "path = '/glade/campaign/cgd/amp/jcaron/ongoing_projects/cvdp-le/output/for_kirsten/1920-2100/'\n",
    "ens = ['0101','0111','0121','0131','0141','0151','0161','0171','0181','0191',\n",
    "       '0201','0211','0221','0231','0241','0251','0261','0271','0281','0291','0301']\n",
    "\n",
    "for e in range(len(ens)):\n",
    "    finame = 'E3SM2_'+ens[e]+'.cvdp_data.1920-2100.nc'\n",
    "    if e == 0:\n",
    "        nino34 = xr.open_dataset(path+finame,decode_times=False)['nino34']\n",
    "    elif e > 0:\n",
    "        temp_nino34 = xr.open_dataset(path+finame,decode_times=False)['nino34']\n",
    "        nino34 = xr.concat([nino34,temp_nino34],dim='ens')\n",
    "\n",
    "newtime = pd.date_range(\"1920-01-01\", freq=\"MS\", periods=len(nino34.time))\n",
    "nino34['time'] = newtime                           \n",
    "nino34 = nino34.where((nino34.time.dt.year >= 1950) & (nino34.time.dt.year <= 2015), drop = True)\n",
    "\n",
    "# nino34[0].plot()\n",
    "\n",
    "nino34_ensmean = nino34.mean('ens')\n",
    "nino34_detrended = detrend_members(data = nino34, \n",
    "                                   ensmean_data = nino34_ensmean, \n",
    "                                   npoly=3)\n",
    "nino34_detrended_upsample = nino34_detrended.resample(time='1D').asfreq()\n",
    "nino34_detrended_upsample = nino34_detrended_upsample.where(~((nino34_detrended_upsample.time.dt.month == 2) & (nino34_detrended_upsample.time.dt.day == 29)),drop=True)\n",
    "nino34_detrended_upsample = nino34_detrended_upsample.ffill(dim='time')\n",
    "nino34_detrended_upsample = nino34_detrended_upsample[:,6:-335] # 6: account for days 1-6 missing in X because of rolling mean; \n",
    "                                                                #-355: had to go through 2015 (not 2014) to get all days in Dec 2014 (not just 12-01-2014)"
   ]
  },
  {
   "cell_type": "markdown",
   "id": "fe1e4708-bad0-4a40-b293-f386cfbe2f30",
   "metadata": {},
   "source": [
    "## Load Model HPs"
   ]
  },
  {
   "cell_type": "code",
   "execution_count": 4,
   "id": "da9633a1-1a34-4bcb-9ab9-4a1e9a034806",
   "metadata": {},
   "outputs": [
    {
     "name": "stdout",
     "output_type": "stream",
     "text": [
      "['0101', '0111', '0121', '0131', '0141', '0151', '0161', '0171', '0181'] 0191 0301\n",
      "files do not exist - loading data & saving\n"
     ]
    }
   ],
   "source": [
    "EXP_NAME = 'exp2'\n",
    "hps = get_hp(EXP_NAME)\n",
    "print(hps['train_mems'],hps['val_mems'][0],hps['test_mems'][0])\n",
    "\n",
    "_, _, X1test, _, _, Y1test, inew = split_SDbias(trainmems = hps['train_mems'],\n",
    "                                                  valmem = hps['val_mems'][0],\n",
    "                                                  testmem = hps['test_mems'][0],\n",
    "                                                  months = [11,12,1,2], # months for X (Y+leadtime are accounted for in function)\n",
    "                                                  lead = hps['LEAD']) \n",
    "\n",
    "nlat = X1test.shape[1]\n",
    "nlon = X1test.shape[2]\n",
    "X1test = X1test.reshape((X1test.shape[0],nlat*nlon))\n",
    "number_inputs = nlat*nlon"
   ]
  },
  {
   "cell_type": "code",
   "execution_count": 5,
   "id": "3a7246aa-1c67-433f-8715-986f76b7683f",
   "metadata": {},
   "outputs": [
    {
     "name": "stdout",
     "output_type": "stream",
     "text": [
      "(7518,)\n",
      "(7518, 2448)\n",
      "0.2117584463953179\n",
      "0.24620909816440542\n"
     ]
    }
   ],
   "source": [
    "memind = np.where(np.array(ens) == hps['test_mems'][0])[0][0]\n",
    "nino34_test = nino34_detrended_upsample[memind][:-6][:-hps['LEAD']]\n",
    "nino34_NDJF_test = is_month(nino34_test, [11,12,1,2])\n",
    "nino34_NDJF_test = nino34_NDJF_test.isel(time = inew,drop=True) \n",
    "print(np.shape(nino34_NDJF_test))\n",
    "print(np.shape(X1test))\n",
    "\n",
    "ienso = np.where(np.abs(nino34_NDJF_test) > 1)[0]\n",
    "inino = np.where(nino34_NDJF_test > 1)[0]\n",
    "inina = np.where(nino34_NDJF_test < -1)[0]\n",
    "\n",
    "print(np.shape(inino)[0]/np.shape(nino34_NDJF_test)[0]) #fraction of days with el nino\n",
    "print(np.shape(inina)[0]/np.shape(nino34_NDJF_test)[0]) #fraction of days with la nina"
   ]
  },
  {
   "cell_type": "markdown",
   "id": "fde13946-622a-4aac-a28a-0211bba0bf4d",
   "metadata": {},
   "source": [
    "## IG Calculation:"
   ]
  },
  {
   "cell_type": "code",
   "execution_count": 6,
   "id": "e0878367-e14e-43c1-83b6-91a228525539",
   "metadata": {},
   "outputs": [
    {
     "name": "stdout",
     "output_type": "stream",
     "text": [
      "0\n"
     ]
    },
    {
     "name": "stderr",
     "output_type": "stream",
     "text": [
      "2024-09-04 10:23:50.536834: I tensorflow/core/platform/cpu_feature_guard.cc:193] This TensorFlow binary is optimized with oneAPI Deep Neural Network Library (oneDNN) to use the following CPU instructions in performance-critical operations:  SSE4.1 SSE4.2 AVX AVX2 AVX512F AVX512_VNNI FMA\n",
      "To enable them in other operations, rebuild TensorFlow with the appropriate compiler flags.\n"
     ]
    },
    {
     "name": "stdout",
     "output_type": "stream",
     "text": [
      "235/235 [==============================] - 1s 942us/step\n",
      "1\n",
      "235/235 [==============================] - 0s 1ms/step\n",
      "2\n",
      "235/235 [==============================] - 0s 1ms/step\n",
      "3\n",
      "235/235 [==============================] - 0s 939us/step\n",
      "4\n",
      "235/235 [==============================] - 0s 1ms/step\n",
      "5\n",
      "235/235 [==============================] - 0s 1ms/step\n",
      "6\n",
      "235/235 [==============================] - 0s 937us/step\n",
      "7\n",
      "235/235 [==============================] - 0s 958us/step\n",
      "8\n",
      "235/235 [==============================] - 0s 919us/step\n",
      "9\n",
      "235/235 [==============================] - 0s 1ms/step\n"
     ]
    }
   ],
   "source": [
    "#----- SET UP & TRAIN NN -----\n",
    "GLOBAL_SEED = hps['GLOBAL_SEED']\n",
    "np.random.seed(GLOBAL_SEED)\n",
    "random.seed(GLOBAL_SEED)\n",
    "tf.random.set_seed(GLOBAL_SEED)\n",
    "\n",
    "\n",
    "for SEED in np.arange(0,10):\n",
    "    IG_neg_heatmap = []\n",
    "    IG_pos_heatmap = []\n",
    "    print(SEED)\n",
    "    annfi_name = 'ann_60Eshift_'+EXP_NAME+'_seed'+str(SEED)+'.h5'\n",
    "    model = tf.keras.models.load_model(base_dir+'train/saved_models/'+annfi_name)\n",
    "    \n",
    "    pred = model.predict(X1test)\n",
    "    predconf = np.max(pred,axis=-1)\n",
    "    predval  = np.argmax(pred,axis=-1)\n",
    "\n",
    "    # iconf = np.where(predconf >= np.percentile(predconf,q=80))\n",
    "    # icorr = np.where(predval[iconf] == Y1test[iconf])\n",
    "    icorr = np.where(predval[ienso] == Y1test[ienso])\n",
    "    \n",
    "    ineg = np.where(Y1test[ienso][icorr] == 0)\n",
    "    ipos = np.where(Y1test[ienso][icorr] == 1)\n",
    "    \n",
    "    # print(len(ineg[0]))\n",
    "    # print(len(ipos[0]))\n",
    "    \n",
    "    if len(ineg[0]) > 0:\n",
    "        for neg_sample in X1test[ienso][icorr][ineg]:\n",
    "            IG_negsample_heatmap = get_integrated_gradients(neg_sample.reshape((1,number_inputs)),top_pred_idx=0).numpy()[0]\n",
    "            IG_neg_heatmap.append(IG_negsample_heatmap/np.max(np.abs(IG_negsample_heatmap)))\n",
    "        \n",
    "        IG_neg_heatmap_reshape = np.asarray(IG_neg_heatmap).reshape((len(ineg[0]),nlat,nlon))\n",
    "        np.save(base_dir+'IG/data/IG_ann1_60Eshift_'+EXP_NAME+'_negenso_seed'+str(SEED)+'.npy',\n",
    "                IG_neg_heatmap_reshape,\n",
    "                allow_pickle=True)\n",
    "    \n",
    "    if len(ipos[0]) > 0:\n",
    "        for pos_sample in X1test[ienso][icorr][ipos]:\n",
    "            IG_possample_heatmap = get_integrated_gradients(pos_sample.reshape((1,number_inputs)),top_pred_idx=1).numpy()[0]\n",
    "            IG_pos_heatmap.append(IG_possample_heatmap/np.max(np.abs(IG_possample_heatmap)))\n",
    "            \n",
    "        IG_pos_heatmap_reshape = np.asarray(IG_pos_heatmap).reshape((len(ipos[0]),nlat,nlon))\n",
    "        np.save(base_dir+'IG/data/IG_ann1_60Eshift_'+EXP_NAME+'_posenso_seed'+str(SEED)+'.npy',\n",
    "                IG_pos_heatmap_reshape,\n",
    "                allow_pickle=True)"
   ]
  },
  {
   "cell_type": "code",
   "execution_count": 9,
   "id": "5836d31f-324e-4756-8733-c605b8c962ce",
   "metadata": {},
   "outputs": [
    {
     "data": {
      "image/png": "[encoded data removed]",
      "text/plain": [
       "<Figure size 960x720 with 1 Axes>"
      ]
     },
     "metadata": {},
     "output_type": "display_data"
    },
    {
     "data": {
      "image/png": "[encoded data removed]",
      "text/plain": [
       "<Figure size 960x720 with 1 Axes>"
      ]
     },
     "metadata": {},
     "output_type": "display_data"
    }
   ],
   "source": [
    "IG_neg_heatmap_mean = np.mean(np.asarray(IG_neg_heatmap).reshape((len(ineg[0]),nlat,nlon)),0)\n",
    "IG_pos_heatmap_mean = np.mean(np.asarray(IG_pos_heatmap).reshape((len(ipos[0]),nlat,nlon)),0)\n",
    "plt.imshow(IG_neg_heatmap_mean,origin='lower',cmap='RdBu_r',vmin=-.1,vmax=.1)\n",
    "plt.title('State-Dependent Bias Testing Member 20')\n",
    "plt.show()\n",
    "plt.imshow(IG_pos_heatmap_mean,origin='lower',cmap='RdBu_r',vmin=-.1,vmax=.1)\n",
    "plt.show()"
   ]
  },
  {
   "cell_type": "code",
   "execution_count": 6,
   "id": "74433c00-10d5-41a8-bcee-b326f24265f0",
   "metadata": {},
   "outputs": [
    {
     "name": "stdout",
     "output_type": "stream",
     "text": [
      "6\n"
     ]
    },
    {
     "name": "stderr",
     "output_type": "stream",
     "text": [
      "2024-09-05 10:46:59.728055: I tensorflow/core/platform/cpu_feature_guard.cc:193] This TensorFlow binary is optimized with oneAPI Deep Neural Network Library (oneDNN) to use the following CPU instructions in performance-critical operations:  SSE4.1 SSE4.2 AVX AVX2 FMA\n",
      "To enable them in other operations, rebuild TensorFlow with the appropriate compiler flags.\n"
     ]
    },
    {
     "name": "stdout",
     "output_type": "stream",
     "text": [
      "7\n",
      "8\n",
      "9\n"
     ]
    }
   ],
   "source": [
    "#----- All (correct & incorrect) ENSO events ----\n",
    "GLOBAL_SEED = hps['GLOBAL_SEED']\n",
    "np.random.seed(GLOBAL_SEED)\n",
    "random.seed(GLOBAL_SEED)\n",
    "tf.random.set_seed(GLOBAL_SEED)\n",
    "\n",
    "\n",
    "for SEED in np.arange(6,10):\n",
    "    IG_neg_heatmap = []\n",
    "    IG_pos_heatmap = []\n",
    "    print(SEED)\n",
    "    annfi_name = 'ann_60Eshift_'+EXP_NAME+'_seed'+str(SEED)+'.h5'\n",
    "    model = tf.keras.models.load_model(base_dir+'train/saved_models/'+annfi_name)\n",
    "    \n",
    "    # pred = model.predict(X1test)\n",
    "    # predconf = np.max(pred,axis=-1)\n",
    "    # predval  = np.argmax(pred,axis=-1)\n",
    "\n",
    "    # iconf = np.where(predconf >= np.percentile(predconf,q=80))\n",
    "    # icorr = np.where(predval[iconf] == Y1test[iconf])\n",
    "    \n",
    "    ineg = np.where(Y1test[ienso] == 0)\n",
    "    ipos = np.where(Y1test[ienso] == 1)\n",
    "    \n",
    "    # print(len(ineg[0]))\n",
    "    # print(len(ipos[0]))\n",
    "    \n",
    "    if len(ineg[0]) > 0:\n",
    "        for neg_sample in X1test[ienso][ineg]:\n",
    "            IG_negsample_heatmap = get_integrated_gradients(neg_sample.reshape((1,number_inputs)),top_pred_idx=0).numpy()[0]\n",
    "            IG_neg_heatmap.append(IG_negsample_heatmap/np.max(np.abs(IG_negsample_heatmap)))\n",
    "        \n",
    "        IG_neg_heatmap_reshape = np.asarray(IG_neg_heatmap).reshape((len(ineg[0]),nlat,nlon))\n",
    "        np.save(base_dir+'IG/data/IG_ann1_60Eshift_'+EXP_NAME+'_allnegenso_seed'+str(SEED)+'.npy',\n",
    "                IG_neg_heatmap_reshape,\n",
    "                allow_pickle=True)\n",
    "    \n",
    "    if len(ipos[0]) > 0:\n",
    "        for pos_sample in X1test[ienso][ipos]:\n",
    "            IG_possample_heatmap = get_integrated_gradients(pos_sample.reshape((1,number_inputs)),top_pred_idx=1).numpy()[0]\n",
    "            IG_pos_heatmap.append(IG_possample_heatmap/np.max(np.abs(IG_possample_heatmap)))\n",
    "            \n",
    "        IG_pos_heatmap_reshape = np.asarray(IG_pos_heatmap).reshape((len(ipos[0]),nlat,nlon))\n",
    "        np.save(base_dir+'IG/data/IG_ann1_60Eshift_'+EXP_NAME+'_allposenso_seed'+str(SEED)+'.npy',\n",
    "                IG_pos_heatmap_reshape,\n",
    "                allow_pickle=True)"
   ]
  },
  {
   "cell_type": "code",
   "execution_count": null,
   "id": "60d93cb4-676b-4cdd-a1ef-eec9b2081db1",
   "metadata": {},
   "outputs": [],
   "source": []
  }
 ],
 "metadata": {
  "kernelspec": {
   "display_name": "Python [conda env:tf2-env-v2]",
   "language": "python",
   "name": "conda-env-tf2-env-v2-py"
  },
  "language_info": {
   "codemirror_mode": {
    "name": "ipython",
    "version": 3
   },
   "file_extension": ".py",
   "mimetype": "text/x-python",
   "name": "python",
   "nbconvert_exporter": "python",
   "pygments_lexer": "ipython3",
   "version": "3.9.17"
  }
 },
 "nbformat": 4,
 "nbformat_minor": 5
}
