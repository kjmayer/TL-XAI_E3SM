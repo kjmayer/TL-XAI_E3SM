{
 "cells": [
  {
   "cell_type": "code",
   "execution_count": 1,
   "id": "ed995270-7929-4dd2-bd99-73de76ea83ce",
   "metadata": {},
   "outputs": [
    {
     "name": "stderr",
     "output_type": "stream",
     "text": [
      "2024-08-15 09:18:24.021201: I tensorflow/core/platform/cpu_feature_guard.cc:182] This TensorFlow binary is optimized to use available CPU instructions in performance-critical operations.\n",
      "To enable the following instructions: AVX2 FMA, in other operations, rebuild TensorFlow with the appropriate compiler flags.\n",
      "2024-08-15 09:18:50.573811: W tensorflow/compiler/tf2tensorrt/utils/py_utils.cc:38] TF-TRT Warning: Could not find TensorRT\n"
     ]
    },
    {
     "name": "stdout",
     "output_type": "stream",
     "text": [
      "Num GPUs Available:  1\n"
     ]
    },
    {
     "name": "stderr",
     "output_type": "stream",
     "text": [
      "2024-08-15 09:19:18.399848: I tensorflow/core/common_runtime/gpu/gpu_device.cc:1635] Created device /job:localhost/replica:0/task:0/device:GPU:0 with 79084 MB memory:  -> device: 0, name: NVIDIA A100-SXM4-80GB, pci bus id: 0000:c1:00.0, compute capability: 8.0\n"
     ]
    }
   ],
   "source": [
    "## EDIT:\n",
    "base_dir = '/glade/work/kjmayer/research/catalyst/TransferLearning/runmean_analysis/artificial_bias/perfectmodel_TLtest/E3SM_analysis/'\n",
    "\n",
    "import xarray as xr\n",
    "import numpy as np\n",
    "import matplotlib.pyplot as plt\n",
    "import datetime as dt\n",
    "import random\n",
    "import pandas as pd\n",
    "import time\n",
    "\n",
    "import tensorflow as tf\n",
    "print(\"Num GPUs Available: \", len(tf.config.list_physical_devices('GPU')))\n",
    "config = tf.compat.v1.ConfigProto()\n",
    "config.gpu_options.allow_growth = True\n",
    "session = tf.compat.v1.Session(config=config)\n",
    "\n",
    "import sys\n",
    "sys.path.append(base_dir+'functions/')\n",
    "from utils import split_SDbias\n",
    "from exp_hp import get_hp"
   ]
  },
  {
   "cell_type": "code",
   "execution_count": 2,
   "id": "b71ed589-4362-4554-8611-1f7ef31d6980",
   "metadata": {},
   "outputs": [],
   "source": [
    "def get_gradients(inputs, top_pred_idx=None):\n",
    "    \"\"\"Computes the gradients of outputs w.r.t input image.\n",
    "\n",
    "    Args:\n",
    "        inputs: 2D/3D/4D matrix of samples\n",
    "        top_pred_idx: (optional) Predicted label for the x_data\n",
    "                      if classification problem. If regression,\n",
    "                      do not include.\n",
    "\n",
    "    Returns:\n",
    "        Gradients of the predictions w.r.t img_input\n",
    "    \"\"\"\n",
    "    inputs = tf.cast(inputs, tf.float32)\n",
    "\n",
    "    with tf.GradientTape() as tape:\n",
    "        tape.watch(inputs)\n",
    "        \n",
    "        # Run the forward pass of the layer and record operations\n",
    "        # on GradientTape.\n",
    "        preds = model(inputs, training=False)  \n",
    "        \n",
    "        # For classification, grab the top class\n",
    "        if top_pred_idx is not None:\n",
    "            preds = preds[:, top_pred_idx]\n",
    "        \n",
    "    # Use the gradient tape to automatically retrieve\n",
    "    # the gradients of the trainable variables with respect to the loss.        \n",
    "    grads = tape.gradient(preds, inputs)\n",
    "    return grads\n",
    "\n",
    "def get_integrated_gradients(inputs, baseline=None, num_steps=50, top_pred_idx=None):\n",
    "    \"\"\"Computes Integrated Gradients for a prediction.\n",
    "\n",
    "    Args:\n",
    "        inputs (ndarray): 2D/3D/4D matrix of samples\n",
    "        baseline (ndarray): The baseline image to start with for interpolation\n",
    "        num_steps: Number of interpolation steps between the baseline\n",
    "            and the input used in the computation of integrated gradients. These\n",
    "            steps along determine the integral approximation error. By default,\n",
    "            num_steps is set to 50.\n",
    "        top_pred_idx: (optional) Predicted label for the x_data\n",
    "                      if classification problem. If regression,\n",
    "                      do not include.            \n",
    "\n",
    "    Returns:\n",
    "        Integrated gradients w.r.t input image\n",
    "    \"\"\"\n",
    "    # If baseline is not provided, start with zeros\n",
    "    # having same size as the input image.\n",
    "    if baseline is None:\n",
    "        input_size = np.shape(inputs)[1:]\n",
    "        baseline = np.zeros(input_size).astype(np.float32)\n",
    "    else:\n",
    "        baseline = baseline.astype(np.float32)\n",
    "\n",
    "    # 1. Do interpolation.\n",
    "    inputs = inputs.astype(np.float32)\n",
    "    interpolated_inputs = [\n",
    "        baseline + (step / num_steps) * (inputs - baseline)\n",
    "        for step in range(num_steps + 1)\n",
    "    ]\n",
    "    interpolated_inputs = np.array(interpolated_inputs).astype(np.float32)\n",
    "\n",
    "    # 3. Get the gradients\n",
    "    grads = []\n",
    "    for i, x_data in enumerate(interpolated_inputs):\n",
    "        grad = get_gradients(x_data, top_pred_idx=top_pred_idx)     \n",
    "        grads.append(grad)\n",
    "    grads = tf.convert_to_tensor(grads, dtype=tf.float32)\n",
    "\n",
    "    # 4. Approximate the integral using the trapezoidal rule\n",
    "    grads = (grads[:-1] + grads[1:]) / 2.0\n",
    "    avg_grads = tf.reduce_mean(grads, axis=0)\n",
    "    # 5. Calculate integrated gradients and return\n",
    "    integrated_grads = (inputs - baseline) * avg_grads\n",
    "    return integrated_grads"
   ]
  },
  {
   "cell_type": "code",
   "execution_count": 3,
   "id": "da9633a1-1a34-4bcb-9ab9-4a1e9a034806",
   "metadata": {},
   "outputs": [
    {
     "name": "stdout",
     "output_type": "stream",
     "text": [
      "['0101', '0111', '0121', '0131', '0141', '0151', '0161', '0171', '0181'] 0191 0301\n",
      "files do not exist - loading data & saving\n"
     ]
    }
   ],
   "source": [
    "EXP_NAME = 'exp2'\n",
    "hps = get_hp(EXP_NAME)\n",
    "print(hps['train_mems'],hps['val_mems'][0],hps['test_mems'][0])\n",
    "\n",
    "_, _, X1test, _, _, Y1test, inew = split_SDbias(trainmems = hps['train_mems'],\n",
    "                                                      valmem = hps['val_mems'][0],\n",
    "                                                      testmem = hps['test_mems'][0],\n",
    "                                                      months = [11,12,1,2], # months for X (Y+leadtime are accounted for in function)\n",
    "                                                      lead = hps['LEAD']) "
   ]
  },
  {
   "cell_type": "code",
   "execution_count": 4,
   "id": "0a339352-d203-4fce-8f74-fdc440a8b241",
   "metadata": {},
   "outputs": [],
   "source": [
    "nlat = X1test.shape[1]\n",
    "nlon = X1test.shape[2]\n",
    "#number_inputs = nlat*nlon"
   ]
  },
  {
   "cell_type": "code",
   "execution_count": 5,
   "id": "e0878367-e14e-43c1-83b6-91a228525539",
   "metadata": {},
   "outputs": [
    {
     "name": "stdout",
     "output_type": "stream",
     "text": [
      "0\n"
     ]
    },
    {
     "name": "stderr",
     "output_type": "stream",
     "text": [
      "2024-08-15 09:19:52.663462: I tensorflow/core/common_runtime/gpu/gpu_device.cc:1635] Created device /job:localhost/replica:0/task:0/device:GPU:0 with 79084 MB memory:  -> device: 0, name: NVIDIA A100-SXM4-80GB, pci bus id: 0000:c1:00.0, compute capability: 8.0\n",
      "2024-08-15 09:19:56.804099: I tensorflow/compiler/xla/stream_executor/cuda/cuda_dnn.cc:424] Loaded cuDNN version 8600\n",
      "2024-08-15 09:20:01.093145: I tensorflow/compiler/xla/stream_executor/cuda/cuda_blas.cc:637] TensorFloat-32 will be used for the matrix multiplication. This will only be logged once.\n"
     ]
    },
    {
     "name": "stdout",
     "output_type": "stream",
     "text": [
      "235/235 [==============================] - 7s 3ms/step\n",
      "1\n",
      "235/235 [==============================] - 1s 2ms/step\n",
      "2\n",
      "235/235 [==============================] - 1s 2ms/step\n",
      "3\n",
      "235/235 [==============================] - 1s 2ms/step\n",
      "4\n",
      "235/235 [==============================] - 1s 2ms/step\n",
      "5\n",
      "235/235 [==============================] - 1s 2ms/step\n",
      "6\n",
      "235/235 [==============================] - 1s 2ms/step\n",
      "7\n",
      "235/235 [==============================] - 1s 2ms/step\n",
      "8\n",
      "235/235 [==============================] - 1s 2ms/step\n",
      "9\n",
      "235/235 [==============================] - 1s 2ms/step\n"
     ]
    }
   ],
   "source": [
    "#----- SET UP & TRAIN NN -----\n",
    "GLOBAL_SEED = hps['GLOBAL_SEED']\n",
    "np.random.seed(GLOBAL_SEED)\n",
    "random.seed(GLOBAL_SEED)\n",
    "tf.random.set_seed(GLOBAL_SEED)\n",
    "\n",
    "\n",
    "for SEED in np.arange(0,10):\n",
    "    IG_neg_heatmap = []\n",
    "    IG_pos_heatmap = []\n",
    "    print(SEED)\n",
    "    cnnfi_name = 'cnn1_'+EXP_NAME+'_seed'+str(SEED)+'.h5'\n",
    "    model = tf.keras.models.load_model(base_dir+'CNNcheck/saved_models/'+cnnfi_name)\n",
    "    \n",
    "    pred = model.predict(X1test)\n",
    "    predconf = np.max(pred,axis=-1)\n",
    "    predval  = np.argmax(pred,axis=-1)\n",
    "\n",
    "    iconf = np.where(predconf >= np.percentile(predconf,q=80))\n",
    "    icorr = np.where(predval[iconf] == Y1test[iconf])\n",
    "    \n",
    "    ineg = np.where(Y1test[iconf][icorr] == 0)\n",
    "    ipos = np.where(Y1test[iconf][icorr] == 1)\n",
    "    \n",
    "    # print(len(ineg[0]))\n",
    "    # print(len(ipos[0]))\n",
    "    \n",
    "    if len(ineg[0]) > 0:\n",
    "        for neg_sample in X1test[iconf][icorr][ineg]:\n",
    "            IG_negsample_heatmap = get_integrated_gradients(neg_sample.reshape((1,nlat,nlon)),top_pred_idx=0).numpy()[0]\n",
    "            IG_neg_heatmap.append(IG_negsample_heatmap/np.max(np.abs(IG_negsample_heatmap)))\n",
    "        \n",
    "        np.save(base_dir+'CNNcheck/IG_data/IG_cnn1_60Eshift_'+EXP_NAME+'_negconf_seed'+str(SEED)+'.npy',\n",
    "                IG_neg_heatmap,\n",
    "                allow_pickle=True)\n",
    "    \n",
    "    if len(ipos[0]) > 0:\n",
    "        for pos_sample in X1test[iconf][icorr][ipos]:\n",
    "            IG_possample_heatmap = get_integrated_gradients(pos_sample.reshape((1,nlat,nlon)),top_pred_idx=1).numpy()[0]\n",
    "            IG_pos_heatmap.append(IG_possample_heatmap/np.max(np.abs(IG_possample_heatmap)))\n",
    "        \n",
    "        np.save(base_dir+'CNNcheck/IG_data/IG_cnn1_60Eshift_'+EXP_NAME+'_posconf_seed'+str(SEED)+'.npy',\n",
    "                IG_pos_heatmap,\n",
    "                allow_pickle=True)"
   ]
  },
  {
   "cell_type": "code",
   "execution_count": 6,
   "id": "c3d08361-b644-446d-a539-18b708e189a2",
   "metadata": {},
   "outputs": [],
   "source": [
    "IG_neg_heatmap_mean = np.nanmean(IG_neg_heatmap,axis=0)\n",
    "IG_pos_heatmap_mean = np.nanmean(IG_pos_heatmap,axis=0)"
   ]
  },
  {
   "cell_type": "code",
   "execution_count": 7,
   "id": "421e65de-6199-4693-acc5-9f2f98de9261",
   "metadata": {},
   "outputs": [
    {
     "data": {
      "image/png": "[encoded data removed]",
      "text/plain": [
       "<Figure size 960x720 with 1 Axes>"
      ]
     },
     "metadata": {},
     "output_type": "display_data"
    },
    {
     "data": {
      "image/png": "[encoded data removed]",
      "text/plain": [
       "<Figure size 960x720 with 1 Axes>"
      ]
     },
     "metadata": {},
     "output_type": "display_data"
    }
   ],
   "source": [
    "plt.imshow(IG_neg_heatmap_mean,origin='lower',cmap='RdBu_r',vmin=-.1,vmax=.1)\n",
    "plt.title('CESM State-Dependent Bias Testing Member 20')\n",
    "plt.show()\n",
    "plt.imshow(IG_pos_heatmap_mean,origin='lower',cmap='RdBu_r',vmin=-.1,vmax=.1)\n",
    "plt.show()"
   ]
  },
  {
   "cell_type": "code",
   "execution_count": null,
   "id": "74433c00-10d5-41a8-bcee-b326f24265f0",
   "metadata": {},
   "outputs": [],
   "source": []
  }
 ],
 "metadata": {
  "kernelspec": {
   "display_name": "Python [conda env:tf212gpu]",
   "language": "python",
   "name": "conda-env-tf212gpu-py"
  },
  "language_info": {
   "codemirror_mode": {
    "name": "ipython",
    "version": 3
   },
   "file_extension": ".py",
   "mimetype": "text/x-python",
   "name": "python",
   "nbconvert_exporter": "python",
   "pygments_lexer": "ipython3",
   "version": "3.10.12"
  }
 },
 "nbformat": 4,
 "nbformat_minor": 5
}
