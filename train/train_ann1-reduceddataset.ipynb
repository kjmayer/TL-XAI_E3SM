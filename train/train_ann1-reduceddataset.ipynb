{
 "cells": [
  {
   "cell_type": "code",
   "execution_count": 3,
   "id": "b92071cc-3bce-4cb8-98c8-4f4cb8867920",
   "metadata": {},
   "outputs": [],
   "source": [
    "## EDIT:\n",
    "base_dir = '/glade/work/kjmayer/research/catalyst/TransferLearning/runmean_analysis/artificial_bias/perfectmodel_TLtest/E3SM_analysis/'"
   ]
  },
  {
   "cell_type": "code",
   "execution_count": 4,
   "id": "c9fe5336-4843-4902-9c71-0787994c0d98",
   "metadata": {},
   "outputs": [
    {
     "name": "stderr",
     "output_type": "stream",
     "text": [
      "2024-08-28 12:38:55.179897: I tensorflow/core/platform/cpu_feature_guard.cc:193] This TensorFlow binary is optimized with oneAPI Deep Neural Network Library (oneDNN) to use the following CPU instructions in performance-critical operations:  SSE4.1 SSE4.2 AVX AVX2 AVX512F AVX512_VNNI FMA\n",
      "To enable them in other operations, rebuild TensorFlow with the appropriate compiler flags.\n",
      "2024-08-28 12:38:57.039778: I tensorflow/core/util/port.cc:104] oneDNN custom operations are on. You may see slightly different numerical results due to floating-point round-off errors from different computation orders. To turn them off, set the environment variable `TF_ENABLE_ONEDNN_OPTS=0`.\n"
     ]
    },
    {
     "name": "stdout",
     "output_type": "stream",
     "text": [
      "Num GPUs Available:  0\n"
     ]
    }
   ],
   "source": [
    "import xarray as xr\n",
    "import numpy as np\n",
    "# import cartopy.crs as ccrs\n",
    "import matplotlib.pyplot as plt\n",
    "import datetime as dt\n",
    "import random\n",
    "import pandas as pd\n",
    "import tensorflow as tf\n",
    "print(\"Num GPUs Available: \", len(tf.config.list_physical_devices('GPU')))\n",
    "from tensorflow import keras\n",
    "from tensorflow.keras import layers\n",
    "import time\n",
    "\n",
    "import sys\n",
    "sys.path.append(base_dir+'functions/')\n",
    "from utils import split_SDbias, plot_results\n",
    "from exp_hp import get_hp"
   ]
  },
  {
   "cell_type": "code",
   "execution_count": 48,
   "id": "37336e12-2b67-4b7c-a087-89fee344b267",
   "metadata": {},
   "outputs": [],
   "source": [
    "#%% >>>>> Plot Accuracy & Loss during Training >>>>>\n",
    "def adjust_spines(ax, spines):\n",
    "    for loc, spine in ax.spines.items():\n",
    "        if loc in spines:\n",
    "            spine.set_position(('outward', 5))\n",
    "        else:\n",
    "            spine.set_color('none')\n",
    "    if 'left' in spines:\n",
    "        ax.yaxis.set_ticks_position('left')\n",
    "    else:\n",
    "        ax.yaxis.set_ticks([])\n",
    "    if 'bottom' in spines:\n",
    "        ax.xaxis.set_ticks_position('bottom')\n",
    "    else:\n",
    "            ax.xaxis.set_ticks([])\n",
    "\n",
    "def plot_results(n_epochs, epoch, patience, loss, loss_val, acc, acc_val, showplot=True):\n",
    "    trainColor = 'k'\n",
    "    valColor = (141/255,171/255,127/255,1.)\n",
    "    FS = 14\n",
    "    plt.figure(figsize=(15, 7))\n",
    "\n",
    "    #---------- plot loss -------------------\n",
    "    ax = plt.subplot(2,2,1)\n",
    "    adjust_spines(ax, ['left', 'bottom'])\n",
    "    ax.spines['top'].set_color('none')\n",
    "    ax.spines['right'].set_color('none')\n",
    "    ax.spines['left'].set_color('dimgrey')\n",
    "    ax.spines['bottom'].set_color('dimgrey')\n",
    "    ax.spines['left'].set_linewidth(2)\n",
    "    ax.spines['bottom'].set_linewidth(2)\n",
    "    ax.tick_params('both',length=4,width=2,which='major',color='dimgrey')\n",
    "    ax.yaxis.grid(zorder=1,color='dimgrey',alpha=0.35)\n",
    "\n",
    "    plt.plot(acc, 'o', color=trainColor, label='Training',alpha=0.6)\n",
    "    plt.plot(acc_val, 'o', color=valColor, label='Validation',alpha=0.6)\n",
    "    plt.vlines((epoch+1)-patience,-10,1,'k',linestyle='dashed',alpha=0.4)\n",
    "\n",
    "    plt.title('ACCURACY')\n",
    "    plt.xlabel('EPOCH')\n",
    "    plt.xticks(np.arange(0,120,20),labels=np.arange(0,120,20))\n",
    "    plt.yticks(np.arange(.4,1.1,.1),labels=[0.4,0.5,0.6,0.7,0.8,0.9,1.0]) # 0,0.1,0.2,0.3,\n",
    "    plt.grid(True)\n",
    "    plt.legend(frameon=True, fontsize=FS)\n",
    "    plt.xlim(-2, 100)\n",
    "    plt.ylim(.4,1)\n",
    "    \n",
    "    # ---------- plot accuracy -------------------\n",
    "    ax = plt.subplot(2,2,2)\n",
    "    adjust_spines(ax, ['left', 'bottom'])\n",
    "    ax.spines['top'].set_color('none')\n",
    "    ax.spines['right'].set_color('none')\n",
    "    ax.spines['left'].set_color('dimgrey')\n",
    "    ax.spines['bottom'].set_color('dimgrey')\n",
    "    ax.spines['left'].set_linewidth(2)\n",
    "    ax.spines['bottom'].set_linewidth(2)\n",
    "    ax.tick_params('both',length=4,width=2,which='major',color='dimgrey')\n",
    "    ax.yaxis.grid(zorder=1,color='dimgrey',alpha=0.35)\n",
    "    \n",
    "    plt.plot(loss, 'o', color=trainColor, label='Training',alpha=0.6)\n",
    "    plt.plot(loss_val, 'o', color=valColor, label='Validation',alpha=0.6)\n",
    "    plt.vlines((epoch+1)-patience,0,1,'k',linestyle='dashed',alpha=0.4)\n",
    "    plt.title('PREDICTION LOSS')\n",
    "    plt.xlabel('EPOCH')\n",
    "    plt.legend(frameon=True, fontsize=FS)\n",
    "    plt.xticks(np.arange(0, 120,20),labels=np.arange(0, 120,20))\n",
    "    plt.yticks(np.arange(0,1.1,.1),labels=[0,0.1,0.2,0.3,0.4,0.5,0.6,0.7,0.8,0.9,1.0])\n",
    "    plt.ylim(0,1)\n",
    "    plt.grid(True)\n",
    "    plt.xlim(-2, 100)\n",
    "\n",
    "    # ---------- Make the plot -------------------\n",
    "    #plt.tight_layout()\n",
    "    if showplot==False:\n",
    "        plt.close('all')\n",
    "    else:\n",
    "        plt.show()"
   ]
  },
  {
   "cell_type": "markdown",
   "id": "9e01c4b3-7530-4920-9ef3-9e9707fb1d81",
   "metadata": {
    "tags": []
   },
   "source": [
    "### Fuctions"
   ]
  },
  {
   "cell_type": "code",
   "execution_count": 6,
   "id": "c4ed1ddb-e257-4a9e-80ff-63be04664971",
   "metadata": {},
   "outputs": [],
   "source": [
    "# ---------------- LEARNING RATE CALLBACK FUNCTION ----------------\n",
    "# def scheduler(epoch, lr):\n",
    "#     # This function keeps the initial learning rate for the first ten epochs\n",
    "#     # and decreases it exponentially after that.\n",
    "#     if epoch%10 != 0 or epoch == 0:\n",
    "#         return lr\n",
    "#     elif epoch%10 == 0 and epoch > 0:\n",
    "#         return lr * tf.constant(.5,dtype=tf.float32)"
   ]
  },
  {
   "cell_type": "code",
   "execution_count": 7,
   "id": "c81d5b6d-38f7-458e-a5cb-73d327e697f7",
   "metadata": {},
   "outputs": [],
   "source": [
    "def create_ann(input_shape, n_output, hiddens, RIDGE = 0, dropout = True, dropout_rate = 0.0):\n",
    "    tf.keras.backend.clear_session() \n",
    "\n",
    "    # ----- input of cnn -----\n",
    "    ann_input = keras.Input(shape = input_shape)\n",
    "\n",
    "    for l,layer in enumerate(hiddens):\n",
    "        # ----- ann layers -----\n",
    "        if l == 0:\n",
    "            x = tf.keras.layers.Dense(layer, \n",
    "                                      activation = 'relu',\n",
    "                                      use_bias = True, \n",
    "                                      kernel_regularizer = tf.keras.regularizers.l1_l2(l1=0.0, l2=RIDGE),\n",
    "                                      bias_initializer = tf.keras.initializers.RandomNormal(seed=SEED),\n",
    "                                      kernel_initializer = tf.keras.initializers.RandomNormal(seed=SEED)\n",
    "                                      )(ann_input)\n",
    "            if dropout:\n",
    "                x = layers.Dropout(rate = dropout_rate)(x)\n",
    "        else:\n",
    "            x = tf.keras.layers.Dense(layer, \n",
    "                                      activation = 'relu',\n",
    "                                      use_bias = True, \n",
    "                                      kernel_regularizer = tf.keras.regularizers.l1_l2(l1=0.0, l2=0.0),\n",
    "                                      bias_initializer = tf.keras.initializers.RandomNormal(seed=SEED),\n",
    "                                      kernel_initializer = tf.keras.initializers.RandomNormal(seed=SEED)\n",
    "                                      )(x)\n",
    "        \n",
    "    # ----- output -----\n",
    "    ann_output = tf.keras.layers.Dense(n_output,\n",
    "                                       activation = tf.keras.activations.softmax,\n",
    "                                       use_bias = True,\n",
    "                                       kernel_regularizer = tf.keras.regularizers.l1_l2(l1=0.0, l2=0.0),\n",
    "                                       bias_initializer = tf.keras.initializers.RandomNormal(seed=SEED),\n",
    "                                       kernel_initializer = tf.keras.initializers.RandomNormal(seed=SEED)\n",
    "                                      )(x)\n",
    "    # ----- create unet -----\n",
    "    ann = keras.Model(ann_input, ann_output, name = 'ann')\n",
    "    \n",
    "    return ann"
   ]
  },
  {
   "cell_type": "markdown",
   "id": "b271bece-4658-4c6a-98f3-f721dceb5550",
   "metadata": {
    "tags": []
   },
   "source": [
    "### Load standardized E3SM"
   ]
  },
  {
   "cell_type": "code",
   "execution_count": 8,
   "id": "7d5ee8af-0ec0-4d76-9d14-86cddafa07e3",
   "metadata": {},
   "outputs": [
    {
     "name": "stdout",
     "output_type": "stream",
     "text": [
      "Training Members: ['0101', '0111', '0121', '0131', '0141', '0151', '0161', '0171', '0181']\n",
      "Validation Member: 0191\n",
      "Testing Member: 0301\n",
      "Lead: 14\n",
      "Region: 30-60N x 170-240E\n"
     ]
    }
   ],
   "source": [
    "EXP_NAME = 'exp2'\n",
    "hps = get_hp(EXP_NAME)\n",
    "print('Training Members: '+str(hps['train_mems']))\n",
    "print('Validation Member: '+str(hps['val_mems'][0]))\n",
    "print('Testing Member: '+str(hps['test_mems'][0]))\n",
    "print('Lead: '+str(hps['LEAD']))\n",
    "print('Region: '+str(hps['region'][0])+'N x '+str(hps['region'][1])+'E')"
   ]
  },
  {
   "cell_type": "code",
   "execution_count": 9,
   "id": "0843ffad-723f-4e96-b4c4-482f808a4d89",
   "metadata": {},
   "outputs": [
    {
     "name": "stdout",
     "output_type": "stream",
     "text": [
      "files do not exist - loading data & saving\n",
      "CPU times: user 13.5 s, sys: 6.02 s, total: 19.5 s\n",
      "Wall time: 24 s\n"
     ]
    }
   ],
   "source": [
    "%%time\n",
    "Xtrain, Xval, _, Ytrain, Yval, _, _ = split_SDbias(trainmems = hps['train_mems'],\n",
    "                                                      valmem = hps['val_mems'][0],\n",
    "                                                      testmem = hps['test_mems'][0],\n",
    "                                                      months = [11,12,1,2], # months for X (Y+leadtime are accounted for in function)\n",
    "                                                      lead = hps['LEAD']) # 330 or 210"
   ]
  },
  {
   "cell_type": "code",
   "execution_count": 10,
   "id": "65e675fb-0aa7-4f73-a057-074395655cdb",
   "metadata": {},
   "outputs": [],
   "source": [
    "Xval = Xval.reshape((Xval.shape[0],Xval.shape[1]*Xval.shape[2]))\n",
    "Xtrain = Xtrain.reshape((Xtrain.shape[0],Xtrain.shape[1]*Xtrain.shape[2]))\n",
    "input_shape = Xtrain.shape[1]"
   ]
  },
  {
   "cell_type": "markdown",
   "id": "9c8adc92-4d67-4640-8b7e-5c0ccd6e8310",
   "metadata": {},
   "source": [
    "### Train NN"
   ]
  },
  {
   "cell_type": "code",
   "execution_count": 11,
   "id": "a767a701-5207-4791-a861-b3c5d5980a94",
   "metadata": {},
   "outputs": [],
   "source": [
    "# ---------- ANN Hyperparameters ----------\n",
    "NLABEL = 2\n",
    "N_EPOCHS = 1000\n",
    "\n",
    "HIDDENS = hps['HIDDENS']\n",
    "BATCH_SIZE = hps['BATCH_SIZE']\n",
    "LR_INIT = hps['LR_INIT']\n",
    "RIDGE = hps['RIDGE']\n",
    "dropout_rate = 0.2 #hps['DROPOUT_RATE']\n",
    "PATIENCE = hps['PATIENCE']\n",
    "GLOBAL_SEED = hps['GLOBAL_SEED']\n",
    "dropout_bool = True"
   ]
  },
  {
   "cell_type": "code",
   "execution_count": 12,
   "id": "6e9e7277-fe61-421c-bb7a-66327064584a",
   "metadata": {},
   "outputs": [
    {
     "name": "stdout",
     "output_type": "stream",
     "text": [
      "[128] 256 0.0001 0.0 0.2 10\n"
     ]
    }
   ],
   "source": [
    "print(HIDDENS,\n",
    "      BATCH_SIZE,\n",
    "      LR_INIT,\n",
    "      RIDGE,\n",
    "      dropout_rate,\n",
    "      PATIENCE)"
   ]
  },
  {
   "cell_type": "code",
   "execution_count": 34,
   "id": "9954846f-df5f-4621-ab05-a9f06953a0c1",
   "metadata": {},
   "outputs": [],
   "source": [
    "# Create a dataset\n",
    "dataset = tf.data.Dataset.from_tensor_slices((Xtrain, Ytrain)).shuffle(buffer_size=Ytrain.shape[0]).batch(BATCH_SIZE)\n",
    "val_dataset = tf.data.Dataset.from_tensor_slices((Xval, Yval)).batch(BATCH_SIZE)"
   ]
  },
  {
   "cell_type": "code",
   "execution_count": 60,
   "id": "98e1289d-3a49-4e59-80a5-c307c9af4dc2",
   "metadata": {},
   "outputs": [],
   "source": []
  },
  {
   "cell_type": "code",
   "execution_count": 64,
   "id": "393cdbc3-98b2-4c0b-9e29-6412e242d9ef",
   "metadata": {},
   "outputs": [
    {
     "name": "stdout",
     "output_type": "stream",
     "text": [
      "0\n",
      "Epoch 1\n",
      "Epoch 2\n",
      "Epoch 3\n",
      "Epoch 4\n",
      "Epoch 5\n",
      "Epoch 6\n",
      "Epoch 7\n",
      "Epoch 8\n",
      "Epoch 9\n",
      "Epoch 10\n",
      "Epoch 11\n",
      "Early stopping at epoch 11\n"
     ]
    },
    {
     "data": {
      "image/png": "[encoded data removed]",
      "text/plain": [
       "<Figure size 2250x1050 with 2 Axes>"
      ]
     },
     "metadata": {},
     "output_type": "display_data"
    }
   ],
   "source": [
    "#----- SET UP & TRAIN NN -----\n",
    "np.random.seed(GLOBAL_SEED)\n",
    "random.seed(GLOBAL_SEED)\n",
    "tf.random.set_seed(GLOBAL_SEED)\n",
    "\n",
    "optimizer = tf.keras.optimizers.Adam(learning_rate = LR_INIT,)\n",
    "loss_fn = tf.keras.losses.SparseCategoricalCrossentropy()\n",
    "\n",
    "train_acc_metric = tf.keras.metrics.SparseCategoricalAccuracy()\n",
    "val_acc_metric = tf.keras.metrics.SparseCategoricalAccuracy()\n",
    "train_loss_metric = tf.keras.metrics.SparseCategoricalCrossentropy()\n",
    "val_loss_metric = tf.keras.metrics.SparseCategoricalCrossentropy()\n",
    "\n",
    "@tf.function\n",
    "def train_step(X, y):\n",
    "    with tf.GradientTape() as tape:\n",
    "        predictions = model(X, training=True)\n",
    "        loss = loss_fn(y, predictions)\n",
    "    gradients = tape.gradient(loss, model.trainable_weights)\n",
    "    optimizer.apply_gradients(zip(gradients, model.trainable_weights))\n",
    "    train_acc_metric.update_state(y, predictions)\n",
    "    train_loss_metric.update_state(y, predictions)\n",
    "    return loss\n",
    "    \n",
    "@tf.function    \n",
    "def val_step(X, y):\n",
    "    val_predictions = model(X, training=False)\n",
    "    val_loss = loss_fn(y, val_predictions)\n",
    "    val_acc_metric.update_state(y, val_predictions)\n",
    "    val_loss_metric.update_state(y, val_predictions)\n",
    "    return val_loss\n",
    "    \n",
    "for SEED in range(1):\n",
    "    print(SEED)\n",
    "    tf.keras.backend.clear_session() \n",
    "    wait = 0\n",
    "    best_val_loss = float('inf')\n",
    "    best_weights = None\n",
    "    \n",
    "    # ------ define NN ------\n",
    "    model = create_ann(input_shape = input_shape,\n",
    "                       n_output = 2,\n",
    "                       hiddens=HIDDENS,\n",
    "                       RIDGE = RIDGE,\n",
    "                       dropout = dropout_bool, dropout_rate = dropout_rate)\n",
    "        \n",
    "    LOSS_LIST = []\n",
    "    LOSS_VAL_LIST = []\n",
    "    ACC_LIST  = []\n",
    "    ACC_VAL_LIST  = []\n",
    "    \n",
    "    for epoch in range(N_EPOCHS):  # Number of epochs\n",
    "        print(f\"Epoch {epoch + 1}\")\n",
    "        step = 0\n",
    "        for batch_X, batch_y in dataset:\n",
    "            loss = train_step(batch_X, batch_y)\n",
    "            step += 1\n",
    "            if step >= len(dataset) // 6:  # Stop after processing 1/6 of the batches\n",
    "                break\n",
    "        \n",
    "        for batch_X_val, batch_y_val in val_dataset:\n",
    "            val_loss = val_step(batch_X_val, batch_y_val)\n",
    "    \n",
    "        # Check for improvement\n",
    "        if val_loss < best_val_loss:\n",
    "            best_val_loss = val_loss\n",
    "            best_weights = model.get_weights()  # Save the best weights\n",
    "            wait = 0  # Reset patience counter\n",
    "        else:\n",
    "            wait += 1\n",
    "            if wait >= PATIENCE:\n",
    "                print(f\"Early stopping at epoch {epoch + 1}\")\n",
    "                model.set_weights(best_weights)  # Restore the best weights\n",
    "                break\n",
    "\n",
    "        ACC_LIST.append(float(train_acc_metric.result()))\n",
    "        ACC_VAL_LIST.append(float(val_acc_metric.result()))\n",
    "        train_acc_metric.reset_states()\n",
    "        val_acc_metric.reset_states()\n",
    "\n",
    "        LOSS_LIST.append(float(train_loss_metric.result()))\n",
    "        LOSS_VAL_LIST.append(float(val_loss_metric.result()))\n",
    "        train_loss_metric.reset_states()\n",
    "        val_loss_metric.reset_states()\n",
    "        \n",
    "    plot_results(N_EPOCHS, epoch, PATIENCE, LOSS_LIST, LOSS_VAL_LIST, ACC_LIST, ACC_VAL_LIST)\n",
    "\n",
    "    # annfi_name = 'ann_60Eshift_'+EXP_NAME+'_seed'+str(SEED)+'.h5'\n",
    "    # ann.save(base_dir+'train/saved_models/'+annfi_name)"
   ]
  },
  {
   "cell_type": "code",
   "execution_count": null,
   "id": "9fbcf5ea-44a6-4441-ba63-473024e47bc5",
   "metadata": {},
   "outputs": [],
   "source": []
  }
 ],
 "metadata": {
  "kernelspec": {
   "display_name": "Python [conda env:tf2-env-v2]",
   "language": "python",
   "name": "conda-env-tf2-env-v2-py"
  },
  "language_info": {
   "codemirror_mode": {
    "name": "ipython",
    "version": 3
   },
   "file_extension": ".py",
   "mimetype": "text/x-python",
   "name": "python",
   "nbconvert_exporter": "python",
   "pygments_lexer": "ipython3",
   "version": "3.9.17"
  }
 },
 "nbformat": 4,
 "nbformat_minor": 5
}
