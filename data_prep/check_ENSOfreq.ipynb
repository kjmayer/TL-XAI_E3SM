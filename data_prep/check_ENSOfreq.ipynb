{
 "cells": [
  {
   "cell_type": "code",
   "execution_count": 1,
   "id": "94504dd6-a1dc-4a77-8fae-6cf22249d182",
   "metadata": {},
   "outputs": [],
   "source": [
    "## EDIT:\n",
    "base_dir = '/glade/work/kjmayer/research/catalyst/TransferLearning/runmean_analysis/artificial_bias/perfectmodel_TLtest/E3SM_analysis/'\n",
    "import xarray as xr\n",
    "import numpy as np\n",
    "import datetime as dt\n",
    "import pandas as pd\n",
    "import time\n",
    "\n",
    "import sys\n",
    "sys.path.append(base_dir+'functions/')\n",
    "from utils import detrend_members, is_month"
   ]
  },
  {
   "cell_type": "code",
   "execution_count": 2,
   "id": "d3b98d92-5546-491f-b5f7-70f6a2066e7b",
   "metadata": {},
   "outputs": [],
   "source": [
    "# get nino3.4 data (not detrended):\n",
    "# old path that had been overwritten:\n",
    "# path = '/glade/campaign/cgd/amp/jcaron/ongoing_projects/cvdp-le/output/final_cesm_e3sm_future_nonprime/1920-2100/'\n",
    "path = '/glade/campaign/cgd/amp/jcaron/ongoing_projects/cvdp-le/output/for_kirsten/1920-2100/'\n",
    "ens = ['0101','0111','0121','0131','0141','0151','0161','0171','0181','0191',\n",
    "       '0201','0211','0221','0231','0241','0251','0261','0271','0281','0291','0301']\n",
    "\n",
    "for e in range(len(ens)):\n",
    "    finame = 'E3SM2_'+ens[e]+'.cvdp_data.1920-2100.nc'\n",
    "    if e == 0:\n",
    "        nino34 = xr.open_dataset(path+finame,decode_times=False)['nino34']\n",
    "    elif e > 0:\n",
    "        temp_nino34 = xr.open_dataset(path+finame,decode_times=False)['nino34']\n",
    "        nino34 = xr.concat([nino34,temp_nino34],dim='ens')\n",
    "\n",
    "newtime = pd.date_range(\"1920-01-01\", freq=\"MS\", periods=len(nino34.time))\n",
    "nino34['time'] = newtime                           \n",
    "nino34 = nino34.where((nino34.time.dt.year >= 1950) & (nino34.time.dt.year <= 2015), drop = True)\n",
    "\n",
    "# nino34[0].plot()\n",
    "\n",
    "nino34_ensmean = nino34.mean('ens')\n",
    "nino34_detrended = detrend_members(data = nino34, \n",
    "                                   ensmean_data = nino34_ensmean, \n",
    "                                   npoly=3)\n",
    "nino34_detrended_upsample = nino34_detrended.resample(time='1D').asfreq()\n",
    "nino34_detrended_upsample = nino34_detrended_upsample.where(~((nino34_detrended_upsample.time.dt.month == 2) & (nino34_detrended_upsample.time.dt.day == 29)),drop=True)\n",
    "nino34_detrended_upsample = nino34_detrended_upsample.ffill(dim='time')\n",
    "nino34_detrended_upsample = nino34_detrended_upsample[:,6:-335] # 6: account for days 1-6 missing in X because of rolling mean; \n",
    "                                                                #-355: had to go through 2015 (not 2014) to get all days in Dec 2014 (not just 12-01-2014)"
   ]
  },
  {
   "cell_type": "code",
   "execution_count": 17,
   "id": "f04d8b5f-abb1-4f1a-aaa5-8d63e1195b1d",
   "metadata": {},
   "outputs": [
    {
     "name": "stdout",
     "output_type": "stream",
     "text": [
      "0.4313217440307741\n",
      "0.20964264275301064\n",
      "0.22167910127776352\n"
     ]
    }
   ],
   "source": [
    "lead = 14\n",
    "ensofrac = []\n",
    "ninafrac = []\n",
    "ninofrac = []\n",
    "for memind in range(len(ens)):\n",
    "    nino34_test = nino34_detrended_upsample[memind][:-6][:-lead]\n",
    "    nino34_NDJF_test = is_month(nino34_test, [11,12,1,2])\n",
    "    # nino34_NDJF_test = nino34_NDJF_test.isel(time = inew,drop=True) \n",
    "    \n",
    "    ienso = np.where(np.abs(nino34_NDJF_test) > 1)[0]\n",
    "    inino = np.where(nino34_NDJF_test > 1)[0]\n",
    "    inina = np.where(nino34_NDJF_test < -1)[0]\n",
    "\n",
    "    ensofrac.append(np.shape(ienso)[0]/np.shape(nino34_NDJF_test)[0])\n",
    "    ninofrac.append(np.shape(inino)[0]/np.shape(nino34_NDJF_test)[0]) #fraction of days with el nino\n",
    "    ninafrac.append(np.shape(inina)[0]/np.shape(nino34_NDJF_test)[0]) #fraction of days with la nina\n",
    "\n",
    "print(np.mean(ensofrac))\n",
    "print(np.mean(ninofrac))\n",
    "print(np.mean(ninafrac))"
   ]
  }
 ],
 "metadata": {
  "kernelspec": {
   "display_name": "Python [conda env:tf2-env-v2]",
   "language": "python",
   "name": "conda-env-tf2-env-v2-py"
  },
  "language_info": {
   "codemirror_mode": {
    "name": "ipython",
    "version": 3
   },
   "file_extension": ".py",
   "mimetype": "text/x-python",
   "name": "python",
   "nbconvert_exporter": "python",
   "pygments_lexer": "ipython3",
   "version": "3.9.17"
  }
 },
 "nbformat": 4,
 "nbformat_minor": 5
}
