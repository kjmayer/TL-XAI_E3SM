{
 "cells": [
  {
   "cell_type": "markdown",
   "id": "836ae2bc-eae9-4eb9-b591-d8c91742944a",
   "metadata": {},
   "source": [
    "## Load E3SMv2 (Historical, no smbb) & Subset"
   ]
  },
  {
   "cell_type": "code",
   "execution_count": 1,
   "id": "d77e1758-a44d-4e29-9dbf-af7affd6bef1",
   "metadata": {},
   "outputs": [],
   "source": [
    "import xarray as xr\n",
    "import numpy as np\n",
    "import pandas as pd\n",
    "import matplotlib.pyplot as plt\n",
    "import datetime as dt"
   ]
  },
  {
   "cell_type": "code",
   "execution_count": 2,
   "id": "234adef5-6105-4ea5-acc9-d0cc5894741b",
   "metadata": {},
   "outputs": [
    {
     "name": "stdout",
     "output_type": "stream",
     "text": [
      "0101\n",
      "0111\n",
      "0121\n",
      "0131\n",
      "0141\n",
      "0151\n",
      "0161\n",
      "0171\n",
      "0181\n",
      "0191\n",
      "0201\n",
      "0211\n",
      "0221\n",
      "0231\n",
      "0241\n",
      "0251\n",
      "0261\n",
      "0271\n",
      "0281\n",
      "0291\n",
      "0301\n"
     ]
    }
   ],
   "source": [
    "# ----- Load, subset & save E3SM Historical Data -----\n",
    "path1 = '/glade/campaign/cgd/ccr/E3SMv2/FV_regridded/v2.FV1.historical_'\n",
    "path2 = '/atm/proc/tseries/day_1/'\n",
    "\n",
    "ens      = ['0101','0111','0121','0131','0141','0151','0161','0171','0181','0191',\n",
    "            '0201','0211','0221','0231','0241','0251','0261','0271','0281','0291',\n",
    "            '0301']\n",
    "\n",
    "zpath_save = '/glade/derecho/scratch/kjmayer/DATA/E3SMv2/Z500/'\n",
    "ppath_save = '/glade/derecho/scratch/kjmayer/DATA/E3SMv2/PRECT/'\n",
    "\n",
    "for e in range(len(ens)):\n",
    "    print(ens[e])\n",
    "    path = path1+ens[e]+path2\n",
    "    z_finame = 'v2.FV1.historical_'+ens[e]+'.eam.h1.Z500.18500101-20141231.nc'\n",
    "    p_finame = 'v2.FV1.historical_'+ens[e]+'.eam.h1.PRECT.18500101-20141231.nc'\n",
    "\n",
    "    zda = xr.open_dataset(path+z_finame)['Z500']                     \n",
    "    zda = zda.where((zda.time.dt.year >= 1950) &\n",
    "                    (zda.time.dt.year <= 2014) &\n",
    "                    (zda.lat >= 20.),\n",
    "                    drop = True)\n",
    "\n",
    "    pda = xr.open_dataset(path+p_finame)['PRECT']\n",
    "    pda = (pda.where((pda.time.dt.year >= 1950) &\n",
    "                     (pda.time.dt.year <= 2014) &\n",
    "                     (pda.lat >= -21) &\n",
    "                     (pda.lat <= 21),\n",
    "                     drop = True) * 60*60*24*1000) #m/s --> mm/day\n",
    "    \n",
    "    # ----- SAVE INPUT & OUTPUT ----\n",
    "    zda.to_netcdf(zpath_save+'Z500_mem'+ens[e]+'_1950-2014_20-90N.nc')\n",
    "    pda.to_netcdf(ppath_save+'PRECT_mem'+ens[e]+'_1950-2014_20S-20N.nc')"
   ]
  },
  {
   "cell_type": "code",
   "execution_count": null,
   "id": "cce6a1cb-4d20-4359-ba20-e8a533e25172",
   "metadata": {},
   "outputs": [],
   "source": []
  }
 ],
 "metadata": {
  "kernelspec": {
   "display_name": "Python [conda env:tf2-env-v2]",
   "language": "python",
   "name": "conda-env-tf2-env-v2-py"
  },
  "language_info": {
   "codemirror_mode": {
    "name": "ipython",
    "version": 3
   },
   "file_extension": ".py",
   "mimetype": "text/x-python",
   "name": "python",
   "nbconvert_exporter": "python",
   "pygments_lexer": "ipython3",
   "version": "3.9.17"
  }
 },
 "nbformat": 4,
 "nbformat_minor": 5
}
