{
 "cells": [
  {
   "cell_type": "code",
   "execution_count": 5,
   "id": "ee1f09ee-2255-4a5c-962c-223f1a96efb8",
   "metadata": {},
   "outputs": [],
   "source": [
    "import dask\n",
    "import dask.array as da\n",
    "from dask_jobqueue import PBSCluster\n",
    "from dask.distributed import Client\n",
    "dask.config.set(**{'array.slicing.split_large_chunks': False}) #supress warning about large chunk\n",
    "\n",
    "import xarray as xr\n",
    "import numpy as np\n",
    "import matplotlib.pyplot as plt\n",
    "import sys\n",
    "sys.path.append('/glade/work/kjmayer/research/catalyst/TransferLearning/runmean_analysis/artificial_bias/perfectmodel_TLtest/E3SM_analysis/functions/')\n",
    "from utils import detrend_members"
   ]
  },
  {
   "cell_type": "code",
   "execution_count": 2,
   "id": "8a539d1c-5884-4664-9487-58493377ce2a",
   "metadata": {},
   "outputs": [
    {
     "name": "stderr",
     "output_type": "stream",
     "text": [
      "/glade/work/kjmayer/conda-envs/tf2-env-v2/lib/python3.9/site-packages/dask_jobqueue/pbs.py:82: FutureWarning: project has been renamed to account as this kwarg was used wit -A option. You are still using it (please also check config files). If you did not set account yet, project will be respected for now, but it will be removed in a future release. If you already set account, project is ignored and you can remove it.\n",
      "  warnings.warn(warn, FutureWarning)\n",
      "/glade/work/kjmayer/conda-envs/tf2-env-v2/lib/python3.9/site-packages/dask_jobqueue/pbs.py:82: FutureWarning: project has been renamed to account as this kwarg was used wit -A option. You are still using it (please also check config files). If you did not set account yet, project will be respected for now, but it will be removed in a future release. If you already set account, project is ignored and you can remove it.\n",
      "  warnings.warn(warn, FutureWarning)\n"
     ]
    },
    {
     "data": {
      "text/html": [
       "<div>\n",
       "    <div style=\"width: 24px; height: 24px; background-color: #e1e1e1; border: 3px solid #9D9D9D; border-radius: 5px; position: absolute;\"> </div>\n",
       "    <div style=\"margin-left: 48px;\">\n",
       "        <h3 style=\"margin-bottom: 0px;\">Client</h3>\n",
       "        <p style=\"color: #9D9D9D; margin-bottom: 0px;\">Client-95bf12fd-50f4-11ef-9c92-3cecef1b126c</p>\n",
       "        <table style=\"width: 100%; text-align: left;\">\n",
       "\n",
       "        <tr>\n",
       "        \n",
       "            <td style=\"text-align: left;\"><strong>Connection method:</strong> Cluster object</td>\n",
       "            <td style=\"text-align: left;\"><strong>Cluster type:</strong> dask_jobqueue.PBSCluster</td>\n",
       "        \n",
       "        </tr>\n",
       "\n",
       "        \n",
       "            <tr>\n",
       "                <td style=\"text-align: left;\">\n",
       "                    <strong>Dashboard: </strong> <a href=\"https://jupyterhub.hpc.ucar.edu/stable/user/kjmayer/proxy/8787/status\" target=\"_blank\">https://jupyterhub.hpc.ucar.edu/stable/user/kjmayer/proxy/8787/status</a>\n",
       "                </td>\n",
       "                <td style=\"text-align: left;\"></td>\n",
       "            </tr>\n",
       "        \n",
       "\n",
       "        </table>\n",
       "\n",
       "        \n",
       "\n",
       "        \n",
       "            <details>\n",
       "            <summary style=\"margin-bottom: 20px;\"><h3 style=\"display: inline;\">Cluster Info</h3></summary>\n",
       "            <div class=\"jp-RenderedHTMLCommon jp-RenderedHTML jp-mod-trusted jp-OutputArea-output\">\n",
       "    <div style=\"width: 24px; height: 24px; background-color: #e1e1e1; border: 3px solid #9D9D9D; border-radius: 5px; position: absolute;\">\n",
       "    </div>\n",
       "    <div style=\"margin-left: 48px;\">\n",
       "        <h3 style=\"margin-bottom: 0px; margin-top: 0px;\">PBSCluster</h3>\n",
       "        <p style=\"color: #9D9D9D; margin-bottom: 0px;\">441b8dd3</p>\n",
       "        <table style=\"width: 100%; text-align: left;\">\n",
       "            <tr>\n",
       "                <td style=\"text-align: left;\">\n",
       "                    <strong>Dashboard:</strong> <a href=\"https://jupyterhub.hpc.ucar.edu/stable/user/kjmayer/proxy/8787/status\" target=\"_blank\">https://jupyterhub.hpc.ucar.edu/stable/user/kjmayer/proxy/8787/status</a>\n",
       "                </td>\n",
       "                <td style=\"text-align: left;\">\n",
       "                    <strong>Workers:</strong> 0\n",
       "                </td>\n",
       "            </tr>\n",
       "            <tr>\n",
       "                <td style=\"text-align: left;\">\n",
       "                    <strong>Total threads:</strong> 0\n",
       "                </td>\n",
       "                <td style=\"text-align: left;\">\n",
       "                    <strong>Total memory:</strong> 0 B\n",
       "                </td>\n",
       "            </tr>\n",
       "            \n",
       "        </table>\n",
       "\n",
       "        <details>\n",
       "            <summary style=\"margin-bottom: 20px;\">\n",
       "                <h3 style=\"display: inline;\">Scheduler Info</h3>\n",
       "            </summary>\n",
       "\n",
       "            <div style=\"\">\n",
       "    <div>\n",
       "        <div style=\"width: 24px; height: 24px; background-color: #FFF7E5; border: 3px solid #FF6132; border-radius: 5px; position: absolute;\"> </div>\n",
       "        <div style=\"margin-left: 48px;\">\n",
       "            <h3 style=\"margin-bottom: 0px;\">Scheduler</h3>\n",
       "            <p style=\"color: #9D9D9D; margin-bottom: 0px;\">Scheduler-06d1dcfc-a515-4c08-9c06-075127938e5e</p>\n",
       "            <table style=\"width: 100%; text-align: left;\">\n",
       "                <tr>\n",
       "                    <td style=\"text-align: left;\">\n",
       "                        <strong>Comm:</strong> tcp://128.117.208.66:36633\n",
       "                    </td>\n",
       "                    <td style=\"text-align: left;\">\n",
       "                        <strong>Workers:</strong> 0\n",
       "                    </td>\n",
       "                </tr>\n",
       "                <tr>\n",
       "                    <td style=\"text-align: left;\">\n",
       "                        <strong>Dashboard:</strong> <a href=\"https://jupyterhub.hpc.ucar.edu/stable/user/kjmayer/proxy/8787/status\" target=\"_blank\">https://jupyterhub.hpc.ucar.edu/stable/user/kjmayer/proxy/8787/status</a>\n",
       "                    </td>\n",
       "                    <td style=\"text-align: left;\">\n",
       "                        <strong>Total threads:</strong> 0\n",
       "                    </td>\n",
       "                </tr>\n",
       "                <tr>\n",
       "                    <td style=\"text-align: left;\">\n",
       "                        <strong>Started:</strong> Just now\n",
       "                    </td>\n",
       "                    <td style=\"text-align: left;\">\n",
       "                        <strong>Total memory:</strong> 0 B\n",
       "                    </td>\n",
       "                </tr>\n",
       "            </table>\n",
       "        </div>\n",
       "    </div>\n",
       "\n",
       "    <details style=\"margin-left: 48px;\">\n",
       "        <summary style=\"margin-bottom: 20px;\">\n",
       "            <h3 style=\"display: inline;\">Workers</h3>\n",
       "        </summary>\n",
       "\n",
       "        \n",
       "\n",
       "    </details>\n",
       "</div>\n",
       "\n",
       "        </details>\n",
       "    </div>\n",
       "</div>\n",
       "            </details>\n",
       "        \n",
       "\n",
       "    </div>\n",
       "</div>"
      ],
      "text/plain": [
       "<Client: 'tcp://128.117.208.66:36633' processes=0 threads=0, memory=0 B>"
      ]
     },
     "execution_count": 2,
     "metadata": {},
     "output_type": "execute_result"
    }
   ],
   "source": [
    "# Setup your PBSCluster\n",
    "cluster = PBSCluster(\n",
    "                    cores=1, \n",
    "                    memory='5GB', \n",
    "                    processes=1, \n",
    "                    queue='casper', \n",
    "                    local_directory='$TMPDIR', # Use your local directory\n",
    "                    resource_spec='select=1:ncpus=1:mem=5GB', \n",
    "                    project='P06010014', \n",
    "                    walltime='24:00:00', \n",
    "                    interface='ext', \n",
    "                    )\n",
    "\n",
    "# Scale up\n",
    "cluster.scale(20)\n",
    "\n",
    "client = Client(cluster)\n",
    "client"
   ]
  },
  {
   "cell_type": "code",
   "execution_count": 3,
   "id": "0ae7d1c5-e7df-4b7a-9695-255a1036a2da",
   "metadata": {},
   "outputs": [],
   "source": [
    "# client.close()"
   ]
  },
  {
   "cell_type": "markdown",
   "id": "69d2da52-8f36-4c12-a354-cece3ada0f09",
   "metadata": {},
   "source": [
    "### Load CESM2-LE & Split "
   ]
  },
  {
   "cell_type": "code",
   "execution_count": 3,
   "id": "73f15a9b-ece7-4655-bbae-b0c20dc00147",
   "metadata": {},
   "outputs": [],
   "source": [
    "zpath = '/glade/derecho/scratch/kjmayer/DATA/E3SMv2/Z500/'\n",
    "ppath = '/glade/derecho/scratch/kjmayer/DATA/E3SMv2/PRECT/'\n",
    "\n",
    "pfiname = 'PRECT_allmem_1950-2014_20S-20N_regrid2.5x2.5.nc'\n",
    "zfiname = 'Z500_allmem_1950-2014_20-90N_regrid2.5x2.5.nc'\n",
    "\n",
    "# North Pacific Region: \n",
    "# [lat = 30-60N, lon = 170-240E]\n",
    "ilatpt = 30  \n",
    "flatpt = 60\n",
    "ilonpt = 170\n",
    "flonpt = 240\n",
    "\n",
    "ens = ['0101','0111','0121','0131','0141','0151','0161','0171','0181','0191',\n",
    "       '0201','0211','0221','0231','0241','0251','0261','0271','0281','0291',\n",
    "       '0301']"
   ]
  },
  {
   "cell_type": "code",
   "execution_count": 5,
   "id": "3c332970-37a4-4dfa-bb12-7ecf334ad609",
   "metadata": {},
   "outputs": [
    {
     "name": "stderr",
     "output_type": "stream",
     "text": [
      "<timed exec>:2: RuntimeWarning: Converting a CFTimeIndex with dates from a non-standard calendar, 'noleap', to a pandas.DatetimeIndex, which uses dates from the standard calendar.  This may lead to subtle errors in operations that depend on the length of time between dates.\n"
     ]
    },
    {
     "name": "stdout",
     "output_type": "stream",
     "text": [
      "detrending members\n"
     ]
    },
    {
     "name": "stderr",
     "output_type": "stream",
     "text": [
      "/glade/work/kjmayer/conda-envs/tf2-env-v2/lib/python3.9/site-packages/xarray/core/indexing.py:1443: PerformanceWarning: Slicing with an out-of-order index is generating 22 times more chunks\n",
      "  return self.array[key]\n"
     ]
    },
    {
     "name": "stdout",
     "output_type": "stream",
     "text": [
      "CPU times: user 3min 30s, sys: 26.4 s, total: 3min 56s\n",
      "Wall time: 1h 9s\n"
     ]
    }
   ],
   "source": [
    "%%time\n",
    "precip = xr.open_dataset(ppath+pfiname,chunks='auto').PRECT\n",
    "precip['time'] = precip.indexes['time'].to_datetimeindex()\n",
    "# ensemble mean:\n",
    "X1_ensmean = precip.mean(dim='ens')\n",
    "# detrending:\n",
    "print('detrending members')\n",
    "X1xr  = detrend_members(data = precip,\n",
    "                        ensmean_data = X1_ensmean, \n",
    "                        npoly = 3)"
   ]
  },
  {
   "cell_type": "code",
   "execution_count": 6,
   "id": "ea3222c9-3213-4e07-9f04-98be5659a1f2",
   "metadata": {},
   "outputs": [
    {
     "name": "stdout",
     "output_type": "stream",
     "text": [
      "0261\n",
      "running mean\n"
     ]
    },
    {
     "name": "stderr",
     "output_type": "stream",
     "text": [
      "/glade/work/kjmayer/conda-envs/tf2-env-v2/lib/python3.9/site-packages/distributed/client.py:3160: UserWarning: Sending large graph of size 126.74 MiB.\n",
      "This may cause some slowdown.\n",
      "Consider scattering data ahead of time and using futures.\n",
      "  warnings.warn(\n"
     ]
    },
    {
     "name": "stdout",
     "output_type": "stream",
     "text": [
      "saving\n"
     ]
    },
    {
     "name": "stderr",
     "output_type": "stream",
     "text": [
      "/glade/work/kjmayer/conda-envs/tf2-env-v2/lib/python3.9/site-packages/distributed/client.py:3160: UserWarning: Sending large graph of size 122.98 MiB.\n",
      "This may cause some slowdown.\n",
      "Consider scattering data ahead of time and using futures.\n",
      "  warnings.warn(\n"
     ]
    },
    {
     "name": "stdout",
     "output_type": "stream",
     "text": [
      "0271\n",
      "running mean\n"
     ]
    },
    {
     "name": "stderr",
     "output_type": "stream",
     "text": [
      "/glade/work/kjmayer/conda-envs/tf2-env-v2/lib/python3.9/site-packages/distributed/client.py:3160: UserWarning: Sending large graph of size 126.74 MiB.\n",
      "This may cause some slowdown.\n",
      "Consider scattering data ahead of time and using futures.\n",
      "  warnings.warn(\n"
     ]
    },
    {
     "name": "stdout",
     "output_type": "stream",
     "text": [
      "saving\n"
     ]
    },
    {
     "name": "stderr",
     "output_type": "stream",
     "text": [
      "/glade/work/kjmayer/conda-envs/tf2-env-v2/lib/python3.9/site-packages/distributed/client.py:3160: UserWarning: Sending large graph of size 122.98 MiB.\n",
      "This may cause some slowdown.\n",
      "Consider scattering data ahead of time and using futures.\n",
      "  warnings.warn(\n"
     ]
    },
    {
     "name": "stdout",
     "output_type": "stream",
     "text": [
      "0281\n",
      "running mean\n"
     ]
    },
    {
     "name": "stderr",
     "output_type": "stream",
     "text": [
      "/glade/work/kjmayer/conda-envs/tf2-env-v2/lib/python3.9/site-packages/distributed/client.py:3160: UserWarning: Sending large graph of size 126.74 MiB.\n",
      "This may cause some slowdown.\n",
      "Consider scattering data ahead of time and using futures.\n",
      "  warnings.warn(\n"
     ]
    },
    {
     "name": "stdout",
     "output_type": "stream",
     "text": [
      "saving\n"
     ]
    },
    {
     "name": "stderr",
     "output_type": "stream",
     "text": [
      "/glade/work/kjmayer/conda-envs/tf2-env-v2/lib/python3.9/site-packages/distributed/client.py:3160: UserWarning: Sending large graph of size 122.98 MiB.\n",
      "This may cause some slowdown.\n",
      "Consider scattering data ahead of time and using futures.\n",
      "  warnings.warn(\n"
     ]
    },
    {
     "name": "stdout",
     "output_type": "stream",
     "text": [
      "0291\n",
      "running mean\n"
     ]
    },
    {
     "name": "stderr",
     "output_type": "stream",
     "text": [
      "/glade/work/kjmayer/conda-envs/tf2-env-v2/lib/python3.9/site-packages/distributed/client.py:3160: UserWarning: Sending large graph of size 126.74 MiB.\n",
      "This may cause some slowdown.\n",
      "Consider scattering data ahead of time and using futures.\n",
      "  warnings.warn(\n"
     ]
    },
    {
     "name": "stdout",
     "output_type": "stream",
     "text": [
      "saving\n"
     ]
    },
    {
     "name": "stderr",
     "output_type": "stream",
     "text": [
      "/glade/work/kjmayer/conda-envs/tf2-env-v2/lib/python3.9/site-packages/distributed/client.py:3160: UserWarning: Sending large graph of size 122.98 MiB.\n",
      "This may cause some slowdown.\n",
      "Consider scattering data ahead of time and using futures.\n",
      "  warnings.warn(\n"
     ]
    },
    {
     "name": "stdout",
     "output_type": "stream",
     "text": [
      "0301\n",
      "running mean\n"
     ]
    },
    {
     "name": "stderr",
     "output_type": "stream",
     "text": [
      "/glade/work/kjmayer/conda-envs/tf2-env-v2/lib/python3.9/site-packages/distributed/client.py:3160: UserWarning: Sending large graph of size 126.74 MiB.\n",
      "This may cause some slowdown.\n",
      "Consider scattering data ahead of time and using futures.\n",
      "  warnings.warn(\n"
     ]
    },
    {
     "name": "stdout",
     "output_type": "stream",
     "text": [
      "saving\n"
     ]
    },
    {
     "name": "stderr",
     "output_type": "stream",
     "text": [
      "/glade/work/kjmayer/conda-envs/tf2-env-v2/lib/python3.9/site-packages/distributed/client.py:3160: UserWarning: Sending large graph of size 122.98 MiB.\n",
      "This may cause some slowdown.\n",
      "Consider scattering data ahead of time and using futures.\n",
      "  warnings.warn(\n"
     ]
    },
    {
     "name": "stdout",
     "output_type": "stream",
     "text": [
      "CPU times: user 3h 1min 45s, sys: 5min 24s, total: 3h 7min 10s\n",
      "Wall time: 4h 26min 8s\n"
     ]
    }
   ],
   "source": [
    "%%time\n",
    "for m in range(len(ens[16:])):\n",
    "    print(ens[m+16])\n",
    "    print('running mean')\n",
    "    X1xr_runmean = X1xr[m+16].rolling(time=7,center=False).mean('time').dropna('time')\n",
    "    print('saving')\n",
    "    X1xr_runmean.to_netcdf(ppath+'PRECT_mem'+ens[m+16]+'_7daymean_1950-2014_20S-20N_regrid2.5x2.5_polydetrend_allmems.nc')\n",
    "    del X1xr_runmean"
   ]
  },
  {
   "cell_type": "code",
   "execution_count": 9,
   "id": "d2f7152b-d60e-4bb4-a432-f1729f33a1b7",
   "metadata": {},
   "outputs": [
    {
     "name": "stderr",
     "output_type": "stream",
     "text": [
      "/glade/work/kjmayer/conda-envs/tf2-env-v2/lib/python3.9/site-packages/distributed/client.py:3160: UserWarning: Sending large graph of size 126.74 MiB.\n",
      "This may cause some slowdown.\n",
      "Consider scattering data ahead of time and using futures.\n",
      "  warnings.warn(\n"
     ]
    },
    {
     "data": {
      "text/plain": [
       "[<matplotlib.lines.Line2D at 0x14ff88e8dbe0>]"
      ]
     },
     "execution_count": 9,
     "metadata": {},
     "output_type": "execute_result"
    },
    {
     "data": {
      "image/png": "[encoded data removed]",
      "text/plain": [
       "<Figure size 640x480 with 1 Axes>"
      ]
     },
     "metadata": {},
     "output_type": "display_data"
    }
   ],
   "source": [
    "X1xr_runmean = X1xr[0].rolling(time=7,center=False).mean('time').dropna('time')\n",
    "X1xr[0,:60,10,50].plot()\n",
    "X1xr_runmean[:60,10,50].plot()\n",
    "# del X1xr"
   ]
  },
  {
   "cell_type": "code",
   "execution_count": 4,
   "id": "c041c7ab-ea67-4a28-95fc-6bbe734382ba",
   "metadata": {},
   "outputs": [
    {
     "name": "stderr",
     "output_type": "stream",
     "text": [
      "/glade/derecho/scratch/kjmayer/tmp/ipykernel_23698/77545900.py:3: RuntimeWarning: Converting a CFTimeIndex with dates from a non-standard calendar, 'noleap', to a pandas.DatetimeIndex, which uses dates from the standard calendar.  This may lead to subtle errors in operations that depend on the length of time between dates.\n",
      "  z500['time'] = z500.indexes['time'].to_datetimeindex()\n"
     ]
    }
   ],
   "source": [
    "# open dataset:\n",
    "z500 = xr.open_dataset(zpath+zfiname,chunks='auto').Z500\n",
    "z500['time'] = z500.indexes['time'].to_datetimeindex()\n",
    "z500pt = z500.where((z500['lat'] >= ilatpt) &\n",
    "                    (z500['lat'] <= flatpt) &\n",
    "                    (z500['lon'] >= ilonpt) & \n",
    "                    (z500['lon'] <= flonpt),\n",
    "                    drop = True).squeeze().mean(['lat','lon'])\n",
    "del z500\n",
    "Y1_ensmean = z500pt.mean(dim='ens').chunk('auto')"
   ]
  },
  {
   "cell_type": "code",
   "execution_count": 9,
   "id": "fe455597-b2a7-464d-ab4c-d0d6e6762be1",
   "metadata": {},
   "outputs": [
    {
     "name": "stdout",
     "output_type": "stream",
     "text": [
      "detrending members\n",
      "detrend member 0\n"
     ]
    },
    {
     "name": "stderr",
     "output_type": "stream",
     "text": [
      "/glade/work/kjmayer/conda-envs/tf2-env-v2/lib/python3.9/site-packages/xarray/core/indexing.py:1443: PerformanceWarning: Slicing with an out-of-order index is generating 22 times more chunks\n",
      "  return self.array[key]\n"
     ]
    },
    {
     "name": "stdout",
     "output_type": "stream",
     "text": [
      "calculating rolling mean on member 0\n"
     ]
    },
    {
     "data": {
      "image/png": "[encoded data removed]",
      "text/plain": [
       "<Figure size 640x480 with 1 Axes>"
      ]
     },
     "metadata": {},
     "output_type": "display_data"
    },
    {
     "name": "stdout",
     "output_type": "stream",
     "text": [
      "saving member 0\n",
      "detrend member 1\n"
     ]
    },
    {
     "name": "stderr",
     "output_type": "stream",
     "text": [
      "/glade/work/kjmayer/conda-envs/tf2-env-v2/lib/python3.9/site-packages/xarray/core/indexing.py:1443: PerformanceWarning: Slicing with an out-of-order index is generating 22 times more chunks\n",
      "  return self.array[key]\n"
     ]
    },
    {
     "name": "stdout",
     "output_type": "stream",
     "text": [
      "calculating rolling mean on member 1\n",
      "saving member 1\n",
      "detrend member 2\n"
     ]
    },
    {
     "name": "stderr",
     "output_type": "stream",
     "text": [
      "/glade/work/kjmayer/conda-envs/tf2-env-v2/lib/python3.9/site-packages/xarray/core/indexing.py:1443: PerformanceWarning: Slicing with an out-of-order index is generating 22 times more chunks\n",
      "  return self.array[key]\n"
     ]
    },
    {
     "name": "stdout",
     "output_type": "stream",
     "text": [
      "calculating rolling mean on member 2\n",
      "saving member 2\n",
      "detrend member 3\n"
     ]
    },
    {
     "name": "stderr",
     "output_type": "stream",
     "text": [
      "/glade/work/kjmayer/conda-envs/tf2-env-v2/lib/python3.9/site-packages/xarray/core/indexing.py:1443: PerformanceWarning: Slicing with an out-of-order index is generating 22 times more chunks\n",
      "  return self.array[key]\n"
     ]
    },
    {
     "name": "stdout",
     "output_type": "stream",
     "text": [
      "calculating rolling mean on member 3\n",
      "saving member 3\n",
      "detrend member 4\n"
     ]
    },
    {
     "name": "stderr",
     "output_type": "stream",
     "text": [
      "/glade/work/kjmayer/conda-envs/tf2-env-v2/lib/python3.9/site-packages/xarray/core/indexing.py:1443: PerformanceWarning: Slicing with an out-of-order index is generating 22 times more chunks\n",
      "  return self.array[key]\n"
     ]
    },
    {
     "name": "stdout",
     "output_type": "stream",
     "text": [
      "calculating rolling mean on member 4\n",
      "saving member 4\n",
      "detrend member 5\n"
     ]
    },
    {
     "name": "stderr",
     "output_type": "stream",
     "text": [
      "/glade/work/kjmayer/conda-envs/tf2-env-v2/lib/python3.9/site-packages/xarray/core/indexing.py:1443: PerformanceWarning: Slicing with an out-of-order index is generating 22 times more chunks\n",
      "  return self.array[key]\n"
     ]
    },
    {
     "name": "stdout",
     "output_type": "stream",
     "text": [
      "calculating rolling mean on member 5\n",
      "saving member 5\n",
      "detrend member 6\n"
     ]
    },
    {
     "name": "stderr",
     "output_type": "stream",
     "text": [
      "/glade/work/kjmayer/conda-envs/tf2-env-v2/lib/python3.9/site-packages/xarray/core/indexing.py:1443: PerformanceWarning: Slicing with an out-of-order index is generating 22 times more chunks\n",
      "  return self.array[key]\n"
     ]
    },
    {
     "name": "stdout",
     "output_type": "stream",
     "text": [
      "calculating rolling mean on member 6\n",
      "saving member 6\n",
      "detrend member 7\n"
     ]
    },
    {
     "name": "stderr",
     "output_type": "stream",
     "text": [
      "/glade/work/kjmayer/conda-envs/tf2-env-v2/lib/python3.9/site-packages/xarray/core/indexing.py:1443: PerformanceWarning: Slicing with an out-of-order index is generating 22 times more chunks\n",
      "  return self.array[key]\n"
     ]
    },
    {
     "name": "stdout",
     "output_type": "stream",
     "text": [
      "calculating rolling mean on member 7\n",
      "saving member 7\n",
      "detrend member 8\n"
     ]
    },
    {
     "name": "stderr",
     "output_type": "stream",
     "text": [
      "/glade/work/kjmayer/conda-envs/tf2-env-v2/lib/python3.9/site-packages/xarray/core/indexing.py:1443: PerformanceWarning: Slicing with an out-of-order index is generating 22 times more chunks\n",
      "  return self.array[key]\n"
     ]
    },
    {
     "name": "stdout",
     "output_type": "stream",
     "text": [
      "calculating rolling mean on member 8\n",
      "saving member 8\n",
      "detrend member 9\n"
     ]
    },
    {
     "name": "stderr",
     "output_type": "stream",
     "text": [
      "/glade/work/kjmayer/conda-envs/tf2-env-v2/lib/python3.9/site-packages/xarray/core/indexing.py:1443: PerformanceWarning: Slicing with an out-of-order index is generating 22 times more chunks\n",
      "  return self.array[key]\n"
     ]
    },
    {
     "name": "stdout",
     "output_type": "stream",
     "text": [
      "calculating rolling mean on member 9\n",
      "saving member 9\n",
      "detrend member 10\n"
     ]
    },
    {
     "name": "stderr",
     "output_type": "stream",
     "text": [
      "/glade/work/kjmayer/conda-envs/tf2-env-v2/lib/python3.9/site-packages/xarray/core/indexing.py:1443: PerformanceWarning: Slicing with an out-of-order index is generating 22 times more chunks\n",
      "  return self.array[key]\n"
     ]
    },
    {
     "name": "stdout",
     "output_type": "stream",
     "text": [
      "calculating rolling mean on member 10\n",
      "saving member 10\n",
      "detrend member 11\n"
     ]
    },
    {
     "name": "stderr",
     "output_type": "stream",
     "text": [
      "/glade/work/kjmayer/conda-envs/tf2-env-v2/lib/python3.9/site-packages/xarray/core/indexing.py:1443: PerformanceWarning: Slicing with an out-of-order index is generating 22 times more chunks\n",
      "  return self.array[key]\n"
     ]
    },
    {
     "name": "stdout",
     "output_type": "stream",
     "text": [
      "calculating rolling mean on member 11\n",
      "saving member 11\n",
      "detrend member 12\n"
     ]
    },
    {
     "name": "stderr",
     "output_type": "stream",
     "text": [
      "/glade/work/kjmayer/conda-envs/tf2-env-v2/lib/python3.9/site-packages/xarray/core/indexing.py:1443: PerformanceWarning: Slicing with an out-of-order index is generating 22 times more chunks\n",
      "  return self.array[key]\n"
     ]
    },
    {
     "name": "stdout",
     "output_type": "stream",
     "text": [
      "calculating rolling mean on member 12\n",
      "saving member 12\n",
      "detrend member 13\n"
     ]
    },
    {
     "name": "stderr",
     "output_type": "stream",
     "text": [
      "/glade/work/kjmayer/conda-envs/tf2-env-v2/lib/python3.9/site-packages/xarray/core/indexing.py:1443: PerformanceWarning: Slicing with an out-of-order index is generating 22 times more chunks\n",
      "  return self.array[key]\n"
     ]
    },
    {
     "name": "stdout",
     "output_type": "stream",
     "text": [
      "calculating rolling mean on member 13\n",
      "saving member 13\n",
      "detrend member 14\n"
     ]
    },
    {
     "name": "stderr",
     "output_type": "stream",
     "text": [
      "/glade/work/kjmayer/conda-envs/tf2-env-v2/lib/python3.9/site-packages/xarray/core/indexing.py:1443: PerformanceWarning: Slicing with an out-of-order index is generating 22 times more chunks\n",
      "  return self.array[key]\n"
     ]
    },
    {
     "name": "stdout",
     "output_type": "stream",
     "text": [
      "calculating rolling mean on member 14\n",
      "saving member 14\n",
      "detrend member 15\n"
     ]
    },
    {
     "name": "stderr",
     "output_type": "stream",
     "text": [
      "/glade/work/kjmayer/conda-envs/tf2-env-v2/lib/python3.9/site-packages/xarray/core/indexing.py:1443: PerformanceWarning: Slicing with an out-of-order index is generating 22 times more chunks\n",
      "  return self.array[key]\n"
     ]
    },
    {
     "name": "stdout",
     "output_type": "stream",
     "text": [
      "calculating rolling mean on member 15\n",
      "saving member 15\n",
      "detrend member 16\n"
     ]
    },
    {
     "name": "stderr",
     "output_type": "stream",
     "text": [
      "/glade/work/kjmayer/conda-envs/tf2-env-v2/lib/python3.9/site-packages/xarray/core/indexing.py:1443: PerformanceWarning: Slicing with an out-of-order index is generating 22 times more chunks\n",
      "  return self.array[key]\n"
     ]
    },
    {
     "name": "stdout",
     "output_type": "stream",
     "text": [
      "calculating rolling mean on member 16\n",
      "saving member 16\n",
      "detrend member 17\n"
     ]
    },
    {
     "name": "stderr",
     "output_type": "stream",
     "text": [
      "/glade/work/kjmayer/conda-envs/tf2-env-v2/lib/python3.9/site-packages/xarray/core/indexing.py:1443: PerformanceWarning: Slicing with an out-of-order index is generating 22 times more chunks\n",
      "  return self.array[key]\n"
     ]
    },
    {
     "name": "stdout",
     "output_type": "stream",
     "text": [
      "calculating rolling mean on member 17\n",
      "saving member 17\n",
      "detrend member 18\n"
     ]
    },
    {
     "name": "stderr",
     "output_type": "stream",
     "text": [
      "/glade/work/kjmayer/conda-envs/tf2-env-v2/lib/python3.9/site-packages/xarray/core/indexing.py:1443: PerformanceWarning: Slicing with an out-of-order index is generating 22 times more chunks\n",
      "  return self.array[key]\n"
     ]
    },
    {
     "name": "stdout",
     "output_type": "stream",
     "text": [
      "calculating rolling mean on member 18\n",
      "saving member 18\n",
      "detrend member 19\n"
     ]
    },
    {
     "name": "stderr",
     "output_type": "stream",
     "text": [
      "/glade/work/kjmayer/conda-envs/tf2-env-v2/lib/python3.9/site-packages/xarray/core/indexing.py:1443: PerformanceWarning: Slicing with an out-of-order index is generating 22 times more chunks\n",
      "  return self.array[key]\n"
     ]
    },
    {
     "name": "stdout",
     "output_type": "stream",
     "text": [
      "calculating rolling mean on member 19\n",
      "saving member 19\n",
      "detrend member 20\n"
     ]
    },
    {
     "name": "stderr",
     "output_type": "stream",
     "text": [
      "/glade/work/kjmayer/conda-envs/tf2-env-v2/lib/python3.9/site-packages/xarray/core/indexing.py:1443: PerformanceWarning: Slicing with an out-of-order index is generating 22 times more chunks\n",
      "  return self.array[key]\n"
     ]
    },
    {
     "name": "stdout",
     "output_type": "stream",
     "text": [
      "calculating rolling mean on member 20\n",
      "saving member 20\n",
      "CPU times: user 2h 49min 52s, sys: 8min 19s, total: 2h 58min 11s\n",
      "Wall time: 11h 1min 6s\n"
     ]
    }
   ],
   "source": [
    "%%time\n",
    "print('detrending members')\n",
    "for e in range(len(ens)):\n",
    "    print('detrend member '+str(e))\n",
    "    Y1xr  = detrend_members(data = z500pt[e], \n",
    "                            ensmean_data = Y1_ensmean, \n",
    "                            npoly = 3)\n",
    "    print('calculating rolling mean on member '+str(e))\n",
    "    Y1xr_runmean = Y1xr.rolling(time=7,center=False).mean('time').dropna('time')\n",
    "    Y1xr_runmean = Y1xr_runmean.assign_coords(time=Y1xr.time[:-1*(7-1)])\n",
    "\n",
    "    if e ==0:\n",
    "        Y1xr[:60].plot()\n",
    "        Y1xr_runmean[:60].plot()\n",
    "        plt.show()\n",
    "        \n",
    "    print('saving member '+str(e))\n",
    "    Y1xr_runmean.to_netcdf(zpath+'Z500_mem'+ens[e]+'_7daymean_1950-2014_30-60Nx170-240E_regrid2.5x2.5_polydetrend_allmems.nc')\n",
    "    del Y1xr_runmean\n",
    "\n"
   ]
  },
  {
   "cell_type": "code",
   "execution_count": null,
   "id": "23c243f6-6584-4063-b2b8-edac17c91846",
   "metadata": {},
   "outputs": [],
   "source": []
  }
 ],
 "metadata": {
  "kernelspec": {
   "display_name": "Python [conda env:tf2-env-v2]",
   "language": "python",
   "name": "conda-env-tf2-env-v2-py"
  },
  "language_info": {
   "codemirror_mode": {
    "name": "ipython",
    "version": 3
   },
   "file_extension": ".py",
   "mimetype": "text/x-python",
   "name": "python",
   "nbconvert_exporter": "python",
   "pygments_lexer": "ipython3",
   "version": "3.9.17"
  }
 },
 "nbformat": 4,
 "nbformat_minor": 5
}
